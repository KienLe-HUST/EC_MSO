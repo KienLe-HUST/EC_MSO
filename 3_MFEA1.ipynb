{
 "cells": [
  {
   "cell_type": "code",
   "execution_count": 13,
   "metadata": {},
   "outputs": [],
   "source": [
    "import numpy as np\n",
    "import sys\n",
    "from import_lib.func import sphere, ackley, rosenbrock\n",
    "from import_lib.GA import population_init, factorial_cost, factorial_rank\\\n",
    "                            ,polynomial_mutation, sbx_crossover"
   ]
  },
  {
   "cell_type": "code",
   "execution_count": 14,
   "metadata": {},
   "outputs": [],
   "source": [
    "tasks =    [sphere(30, limited_space= True, lower_bound= -100, upper_bound= 100), \n",
    "            ackley(50, limited_space= True, lower_bound= -100, upper_bound= 100), \n",
    "            rosenbrock(20, limited_space= True, lower_bound= -100, upper_bound= 100), \n",
    "            rosenbrock(30, limited_space= True, lower_bound= -100, upper_bound= 100), \n",
    "            sphere(20, 200, limited_space= True, lower_bound= -300, upper_bound= 300)\n",
    "            ]"
   ]
  },
  {
   "cell_type": "code",
   "execution_count": 15,
   "metadata": {},
   "outputs": [],
   "source": [
    "# FIXME\n",
    "# MFEA1 ???\n",
    "def MFEA1(num_epochs, num_inds_each_task, range_init_pop = [0, 1],tasks = [], rmp = 0.3, nc = 15, nm = 15, mutate = 'polynomial',\n",
    "                one_line = False, num_epochs_printed = 20, let_p_be_alive:bool = False):\n",
    "    \n",
    "    #save history of factorial cost\n",
    "    history_cost = np.empty((0, len(tasks)), np.float)\n",
    "    \n",
    "    max_d = 0\n",
    "    for t in tasks:\n",
    "        if max_d < t.d:\n",
    "            max_d = t.d\n",
    "    \n",
    "    # initial population and skill_factor_arr\n",
    "    inf, sup = range_init_pop\n",
    "    population, skill_factor_arr = population_init(\n",
    "        N = num_inds_each_task, \n",
    "        num_tasks = len(tasks), \n",
    "        d = max_d,\n",
    "        min_val = inf,\n",
    "        max_val = sup,\n",
    "    )\n",
    "    \n",
    "    pop_fcost = factorial_cost(population, skill_factor_arr, tasks)\n",
    "\n",
    "    for epoch in range(num_epochs):\n",
    "        # selection\n",
    "        pop_finess = 1/factorial_rank(pop_fcost, skill_factor_arr, len(tasks))\n",
    "        num_inds_pop = np.int(num_inds_each_task/2)* len(tasks)\n",
    "        selected_inds = np.argsort(-pop_finess)[:num_inds_pop] \n",
    "        population, skill_factor_arr = population[selected_inds], skill_factor_arr[selected_inds]\n",
    "\n",
    "        #initial offspring for epoch\n",
    "        offspring = np.empty((0, max_d))\n",
    "        offspring_skill_factor = np.empty((0, 1), np.int)\n",
    "\n",
    "        #nums offspring generated for each task\n",
    "        num_offspring_each_task = np.zeros(len(tasks), np.int)\n",
    "\n",
    "        # if next_gen = offspring + parent\n",
    "        if let_p_be_alive == True:\n",
    "            offspring = population\n",
    "            offspring_skill_factor = skill_factor_arr\n",
    "\n",
    "            for i in skill_factor_arr:\n",
    "                num_offspring_each_task[i] += 1\n",
    "\n",
    "        while np.all(num_offspring_each_task < num_inds_each_task):\n",
    "            [idx_a, idx_b] = np.random.randint(num_inds_pop, size = 2)\n",
    "            [pa, pb], [skf_a, skf_b] = population[[idx_a, idx_b]], skill_factor_arr[[idx_a, idx_b]]\n",
    "\n",
    "            if skf_a == skf_b:\n",
    "                # intra - crossover\n",
    "                ca, cb = sbx_crossover(pa, pb, nc)\n",
    "\n",
    "                offspring = np.append(offspring, [ca, cb], axis = 0)\n",
    "                offspring_skill_factor = np.append(offspring_skill_factor, [skf_a, skf_a])\n",
    "                num_offspring_each_task[skf_a] += 2\n",
    "            elif np.random.uniform() <= rmp:\n",
    "                # inter - crossover\n",
    "                ca, cb = sbx_crossover(pa, pb, nc)\n",
    "\n",
    "                offspring = np.append(offspring, [ca, cb], axis = 0)\n",
    "                skf_ca, skf_cb = np.random.choice([skf_a, skf_b], 2, True)\n",
    "                offspring_skill_factor = np.append(offspring_skill_factor, [skf_ca, skf_cb])\n",
    "                num_offspring_each_task[skf_ca] += 1\n",
    "                num_offspring_each_task[skf_cb] += 1\n",
    "            else:\n",
    "                # mutation\n",
    "                ca, cb = polynomial_mutation(pa, nm, all_dimensions= True), polynomial_mutation(pb, nm, all_dimensions= True)\n",
    "\n",
    "                \n",
    "                offspring = np.append(offspring, [ca, cb], axis = 0)\n",
    "                offspring_skill_factor = np.append(offspring_skill_factor, [skf_a, skf_b])   \n",
    "                num_offspring_each_task[skf_a] += 1\n",
    "                num_offspring_each_task[skf_b] += 1      \n",
    "        \n",
    "        #update population, skill factor, factorial cost\n",
    "        population, skill_factor_arr = offspring, offspring_skill_factor\n",
    "        pop_fcost = factorial_cost(population, skill_factor_arr, tasks)\n",
    "\n",
    "        #save history\n",
    "        history_cost = np.append(history_cost, [[np.min(pop_fcost[np.where(skill_factor_arr == idx)[0]]) for idx in range (len(tasks))]], axis = 0)\n",
    "\n",
    "        #print\n",
    "        if (epoch + 1) % (num_epochs // num_epochs_printed) == 0:\n",
    "            if one_line == True:\n",
    "                sys.stdout.write('\\r')\n",
    "            sys.stdout.write('Epoch [{}/{}], [%-20s] %3d%% ,func_val: {}'\n",
    "                .format(epoch + 1, num_epochs,[np.min(pop_fcost[np.where(skill_factor_arr == idx)[0]]) for idx in range (len(tasks))])\n",
    "                % ('=' * ((epoch + 1) // (num_epochs // 20)) + '>' , (epoch + 1) * 100 // num_epochs)\n",
    "                )\n",
    "            if one_line == False:\n",
    "                print(\"\\n\")\n",
    "            sys.stdout.flush()\n",
    "    print('END!')\n",
    "    #find solve\n",
    "    sol_idx = [np.argmin(pop_fcost[np.where(skill_factor_arr == idx)]) for idx in range (len(tasks))]\n",
    "    sol = [task.decode(population[np.where(skill_factor_arr == idx)][sol_idx[idx]]) for idx, task in enumerate(tasks)]\n",
    "\n",
    "    return sol, history_cost"
   ]
  },
  {
   "cell_type": "code",
   "execution_count": 16,
   "metadata": {},
   "outputs": [
    {
     "name": "stdout",
     "output_type": "stream",
     "text": [
      "Epoch [2000/2000], [====================>] 100% ,func_val: [0.0038062681222846566, 0.37396658388120274, 2.794908867146226, 2.071190464305557, 4.2194011021114735]END!\n"
     ]
    }
   ],
   "source": [
    "sol, his = MFEA1(num_epochs= 2000, num_inds_each_task= 100, range_init_pop= [0, 1],tasks = tasks, rmp = 0.3, nc = 15, nm = 15, one_line=True)\n"
   ]
  }
 ],
 "metadata": {
  "interpreter": {
   "hash": "f9f85f796d01129d0dd105a088854619f454435301f6ffec2fea96ecbd9be4ac"
  },
  "kernelspec": {
   "display_name": "Python 3.9.5 64-bit",
   "language": "python",
   "name": "python3"
  },
  "language_info": {
   "codemirror_mode": {
    "name": "ipython",
    "version": 3
   },
   "file_extension": ".py",
   "mimetype": "text/x-python",
   "name": "python",
   "nbconvert_exporter": "python",
   "pygments_lexer": "ipython3",
   "version": "3.9.5"
  },
  "orig_nbformat": 4
 },
 "nbformat": 4,
 "nbformat_minor": 2
}
