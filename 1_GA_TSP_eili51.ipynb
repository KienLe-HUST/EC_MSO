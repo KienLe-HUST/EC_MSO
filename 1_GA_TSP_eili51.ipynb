{
 "cells": [
  {
   "cell_type": "code",
   "execution_count": 25,
   "metadata": {},
   "outputs": [],
   "source": [
    "import numpy as np"
   ]
  },
  {
   "cell_type": "code",
   "execution_count": 26,
   "metadata": {},
   "outputs": [
    {
     "name": "stdout",
     "output_type": "stream",
     "text": [
      "eili51.txt\n"
     ]
    }
   ],
   "source": [
    "!ls DATA"
   ]
  },
  {
   "cell_type": "code",
   "execution_count": 27,
   "metadata": {},
   "outputs": [],
   "source": [
    "graph = np.array([[0, 0, 0]])\n",
    "\n",
    "with open(\"DATA/eili51.txt\", \"r\") as f:\n",
    "    for line in f:\n",
    "        # print(np.array(line.split(), \"float64\"))\n",
    "        graph = np.append(graph, [np.array(line.split(), np.int)], axis=0)\n",
    "\n",
    "graph = np.delete(graph, 0, 0)\n",
    "graph = np.delete(graph, 0, axis = 1)"
   ]
  },
  {
   "cell_type": "code",
   "execution_count": 28,
   "metadata": {},
   "outputs": [],
   "source": [
    "num_city = len(graph)"
   ]
  },
  {
   "cell_type": "code",
   "execution_count": 29,
   "metadata": {},
   "outputs": [],
   "source": [
    "import matplotlib.pyplot as plt\n",
    "import math"
   ]
  },
  {
   "cell_type": "code",
   "execution_count": 30,
   "metadata": {},
   "outputs": [
    {
     "data": {
      "image/png": "[encoded data removed]",
      "text/plain": [
       "<Figure size 432x288 with 1 Axes>"
      ]
     },
     "metadata": {
      "needs_background": "light"
     },
     "output_type": "display_data"
    }
   ],
   "source": [
    "plt.plot(graph[:, 0], graph[:, 1], \"ro\")\n",
    "\n",
    "# for i, (h, t, w) in enumerate(graph):\n",
    "#     plt.plot([position[h, 0], position[t, 0]], [position[h, 1], position[t, 1]], \"#75cce8\")\n",
    "    \n",
    "plt.xlabel(\"x\")\n",
    "plt.ylabel(\"y\")\n",
    "plt.show()"
   ]
  },
  {
   "cell_type": "code",
   "execution_count": 31,
   "metadata": {},
   "outputs": [],
   "source": [
    "def initial_pop (size):\n",
    "    population = np.array([np.random.permutation(num_city) for i in range(size)])\n",
    "    return population\n",
    "\n",
    "population = initial_pop(100)"
   ]
  },
  {
   "cell_type": "code",
   "execution_count": 32,
   "metadata": {},
   "outputs": [
    {
     "data": {
      "text/plain": [
       "28.071337695236398"
      ]
     },
     "execution_count": 32,
     "metadata": {},
     "output_type": "execute_result"
    }
   ],
   "source": [
    "def distance(i_th, j_th):\n",
    "    return np.sqrt(np.sum((graph[i_th] - graph[j_th]) ** 2))\n",
    "distance(1, 5)"
   ]
  },
  {
   "cell_type": "code",
   "execution_count": 33,
   "metadata": {},
   "outputs": [],
   "source": [
    "max_cost = 0\n",
    "for i in range(num_city):\n",
    "    for j in range(num_city):\n",
    "        if distance(i, j) > max_cost:\n",
    "            max_cost = distance(i, j)\n",
    "max_cost += 1"
   ]
  },
  {
   "cell_type": "code",
   "execution_count": 34,
   "metadata": {},
   "outputs": [
    {
     "data": {
      "text/plain": [
       "-46.87574812992988"
      ]
     },
     "execution_count": 34,
     "metadata": {},
     "output_type": "execute_result"
    }
   ],
   "source": [
    "# NOTE  optimizer\n",
    "def fitness_func(ind):\n",
    "    cost = 0\n",
    "    for i in range(len(ind)):\n",
    "        cost += distance(ind[i-1], ind[i]) \n",
    "    return -cost\n",
    "\n",
    "fitness_func([0, 1, 2])\n"
   ]
  },
  {
   "cell_type": "code",
   "execution_count": 35,
   "metadata": {},
   "outputs": [],
   "source": [
    "# fitness score for each individual\n",
    "pop_fit = np.apply_along_axis(fitness_func, 1, population)"
   ]
  },
  {
   "cell_type": "code",
   "execution_count": 36,
   "metadata": {},
   "outputs": [],
   "source": [
    "#sort func\n",
    "def sort_decrease(population, pop_fit):\n",
    "    order = np.argsort(-pop_fit)\n",
    "    return population[order], pop_fit[order]\n",
    "population, pop_fit = sort_decrease(population, pop_fit)"
   ]
  },
  {
   "cell_type": "code",
   "execution_count": 37,
   "metadata": {},
   "outputs": [
    {
     "data": {
      "text/plain": [
       "(50, 51)"
      ]
     },
     "execution_count": 37,
     "metadata": {},
     "output_type": "execute_result"
    }
   ],
   "source": [
    "def select_parent(population, percent):\n",
    "    # choose from top gene: 0.3; random: 0.7\n",
    "    parent = np.concatenate(\n",
    "        (population[:int(0.3 * percent * len(population))], \n",
    "        np.array(population[np.random.choice(population.shape[0], size= int(0.7 * percent * len(population)))])),\n",
    "        axis=0\n",
    "    )\n",
    "    return parent\n",
    "\n",
    "select_parent(population, 0.5).shape"
   ]
  },
  {
   "cell_type": "code",
   "execution_count": 38,
   "metadata": {},
   "outputs": [
    {
     "data": {
      "text/plain": [
       "array([5, 4, 2, 8, 0, 1, 6, 7, 3, 9])"
      ]
     },
     "execution_count": 38,
     "metadata": {},
     "output_type": "execute_result"
    }
   ],
   "source": [
    "a = np.arange(10)\n",
    "np.random.shuffle(a)\n",
    "a"
   ]
  },
  {
   "cell_type": "code",
   "execution_count": 39,
   "metadata": {},
   "outputs": [
    {
     "data": {
      "text/plain": [
       "array([[3, 2, 7, 5, 6, 1, 4],\n",
       "       [1, 2, 3, 4, 5, 7, 6]])"
      ]
     },
     "execution_count": 39,
     "metadata": {},
     "output_type": "execute_result"
    }
   ],
   "source": [
    "def ordinal_hybridize(parent_inp):\n",
    "    # random left and right\n",
    "    left = int(np.random.uniform(parent_inp.shape[1]))\n",
    "    right = int(np.random.uniform(parent_inp.shape[1]))\n",
    "    if left > right: left, right = right, left\n",
    "\n",
    "    # NOTE\n",
    "    left = 0\n",
    "\n",
    "    parent = np.copy(parent_inp)\n",
    "    np.random.shuffle(parent)\n",
    "    next_gen = np.zeros_like(parent_inp[0]).reshape(1, -1)\n",
    "\n",
    "    def fill_else(parent1, parent2):\n",
    "        # res[left: right] = parent1[left:right], else from parent2\n",
    "        res = np.copy(parent1)\n",
    "        res[np.append( np.arange(right, len(parent1)), np.arange(0, left)) ] = np.setdiff1d(parent2, parent1[left:right], True)\n",
    "\n",
    "        return res\n",
    "\n",
    "    for i in range (0, len(parent), 2):\n",
    "        if (np.random.uniform(0, 1) < 0.7):\n",
    "            new1 = fill_else(parent[i - 1], parent[i])\n",
    "            new2 = fill_else(parent[i], parent[i - 1])\n",
    "            next_gen = np.append(next_gen, [new1], axis = 0)\n",
    "            next_gen = np.append(next_gen, [new2], axis = 0)\n",
    "\n",
    "\n",
    "    return np.delete(next_gen, 0, axis = 0)\n",
    "\n",
    "ordinal_hybridize(np.array([[1, 2, 3, 4, 5, 6, 7], [3, 2, 7, 5, 6, 4, 1]]) )"
   ]
  },
  {
   "cell_type": "code",
   "execution_count": 40,
   "metadata": {},
   "outputs": [
    {
     "data": {
      "text/plain": [
       "array([0.26655583])"
      ]
     },
     "execution_count": 40,
     "metadata": {},
     "output_type": "execute_result"
    }
   ],
   "source": [
    "np.random.rand(1)"
   ]
  },
  {
   "cell_type": "code",
   "execution_count": 41,
   "metadata": {},
   "outputs": [
    {
     "data": {
      "text/plain": [
       "(array([[ 1,  2,  3,  4,  5,  6,  7,  8,  9, 10],\n",
       "        [ 3,  2,  7,  5,  6,  4,  1,  9, 10,  8]]),\n",
       " array([-221.80377508, -262.10831522]))"
      ]
     },
     "execution_count": 41,
     "metadata": {},
     "output_type": "execute_result"
    }
   ],
   "source": [
    "# gene_mutate_rate la ti le 1 diem gen bi dot bien\n",
    "def mutate(individuals, fit_funcs):\n",
    "    gene_mutate_rate = 0.3\n",
    "\n",
    "    for i in range(len(individuals)):\n",
    "        ind = individuals[i]\n",
    "        num_mutations = int(np.random.uniform(gene_mutate_rate * len(ind)))\n",
    "        order = np.random.choice(np.arange(len(ind)), num_mutations, False)\n",
    "        order_new = np.copy(order)\n",
    "        np.random.shuffle(order_new)\n",
    "        ind[order] = ind[order_new]\n",
    "        if num_mutations > 0:   \n",
    "            individuals[i] = ind\n",
    "            fit_funcs[i] = fitness_func(individuals[i])\n",
    "        \n",
    "        \n",
    "    return individuals, fit_funcs\n",
    "\n",
    "samples = np.array([[1, 2, 3, 4, 5, 6, 7, 8, 9, 10], [3, 2, 7, 5, 6, 4, 1, 9, 10, 8]])\n",
    "mutate(samples, np.array([fitness_func(i) for i in samples ]))"
   ]
  },
  {
   "cell_type": "code",
   "execution_count": 42,
   "metadata": {},
   "outputs": [],
   "source": [
    "s = np.array([40, 19, 41, 13, 25, 14, 6, 48, 27, 51, 46, 12, 47, 18, 4, 42, 44, 17, 37, 15, 45, 33, 10, 39, 32,1,22,20,35,36,3,28,31,8,26, 7, 23, 24, 43]) - 1"
   ]
  },
  {
   "cell_type": "code",
   "execution_count": 43,
   "metadata": {},
   "outputs": [
    {
     "data": {
      "text/plain": [
       "-414.5955462063096"
      ]
     },
     "execution_count": 43,
     "metadata": {},
     "output_type": "execute_result"
    }
   ],
   "source": [
    "fitness_func(s)"
   ]
  },
  {
   "cell_type": "code",
   "execution_count": 44,
   "metadata": {},
   "outputs": [
    {
     "data": {
      "text/plain": [
       "771"
      ]
     },
     "execution_count": 44,
     "metadata": {},
     "output_type": "execute_result"
    }
   ],
   "source": [
    "int(np.random.uniform(0.3, 1, 1) * 1000)\n"
   ]
  },
  {
   "cell_type": "code",
   "execution_count": 45,
   "metadata": {},
   "outputs": [
    {
     "name": "stdout",
     "output_type": "stream",
     "text": [
      "Epoch [0/1000], best_fit: -1428.6672\n",
      "Epoch [1/1000], best_fit: -1365.4759\n",
      "Epoch [2/1000], best_fit: -1365.4759\n",
      "Epoch [3/1000], best_fit: -1365.4759\n",
      "Epoch [4/1000], best_fit: -1365.4759\n",
      "Epoch [5/1000], best_fit: -1344.0727\n",
      "Epoch [6/1000], best_fit: -1344.0727\n",
      "Epoch [7/1000], best_fit: -1344.0727\n",
      "Epoch [8/1000], best_fit: -1344.0727\n",
      "Epoch [9/1000], best_fit: -1344.0727\n",
      "Epoch [10/1000], best_fit: -1336.3212\n",
      "Epoch [11/1000], best_fit: -1281.3959\n",
      "Epoch [12/1000], best_fit: -1281.3959\n",
      "Epoch [13/1000], best_fit: -1256.6188\n",
      "Epoch [14/1000], best_fit: -1256.4778\n",
      "Epoch [15/1000], best_fit: -1254.4671\n",
      "Epoch [16/1000], best_fit: -1216.8327\n",
      "Epoch [17/1000], best_fit: -1216.8327\n",
      "Epoch [18/1000], best_fit: -1196.7023\n",
      "Epoch [19/1000], best_fit: -1171.5678\n",
      "Epoch [20/1000], best_fit: -1171.5678\n",
      "Epoch [21/1000], best_fit: -1111.3740\n",
      "Epoch [22/1000], best_fit: -1111.3740\n",
      "Epoch [23/1000], best_fit: -1100.0714\n",
      "Epoch [24/1000], best_fit: -1100.0714\n",
      "Epoch [25/1000], best_fit: -1095.2709\n",
      "Epoch [26/1000], best_fit: -1095.2709\n",
      "Epoch [27/1000], best_fit: -1095.2709\n",
      "Epoch [28/1000], best_fit: -1078.5036\n",
      "Epoch [29/1000], best_fit: -1054.2543\n",
      "Epoch [30/1000], best_fit: -1048.9813\n",
      "Epoch [31/1000], best_fit: -1048.9813\n",
      "Epoch [32/1000], best_fit: -1026.1945\n",
      "Epoch [33/1000], best_fit: -1017.8541\n",
      "Epoch [34/1000], best_fit: -1017.8541\n",
      "Epoch [35/1000], best_fit: -1013.7921\n",
      "Epoch [36/1000], best_fit: -1002.2769\n",
      "Epoch [37/1000], best_fit: -937.9663\n",
      "Epoch [38/1000], best_fit: -937.9663\n",
      "Epoch [39/1000], best_fit: -937.9663\n",
      "Epoch [40/1000], best_fit: -937.9663\n",
      "Epoch [41/1000], best_fit: -937.9663\n",
      "Epoch [42/1000], best_fit: -937.9663\n",
      "Epoch [43/1000], best_fit: -937.9663\n",
      "Epoch [44/1000], best_fit: -916.1314\n",
      "Epoch [45/1000], best_fit: -916.1314\n",
      "Epoch [46/1000], best_fit: -916.1314\n",
      "Epoch [47/1000], best_fit: -886.1117\n",
      "Epoch [48/1000], best_fit: -886.1117\n",
      "Epoch [49/1000], best_fit: -886.1117\n",
      "Epoch [50/1000], best_fit: -877.2599\n",
      "Epoch [51/1000], best_fit: -877.2599\n",
      "Epoch [52/1000], best_fit: -877.2599\n",
      "Epoch [53/1000], best_fit: -857.5717\n",
      "Epoch [54/1000], best_fit: -857.5717\n",
      "Epoch [55/1000], best_fit: -857.5717\n",
      "Epoch [56/1000], best_fit: -857.5717\n",
      "Epoch [57/1000], best_fit: -857.5717\n",
      "Epoch [58/1000], best_fit: -857.5717\n",
      "Epoch [59/1000], best_fit: -848.7199\n",
      "Epoch [60/1000], best_fit: -848.7199\n",
      "Epoch [61/1000], best_fit: -848.7199\n",
      "Epoch [62/1000], best_fit: -831.2304\n",
      "Epoch [63/1000], best_fit: -831.2304\n",
      "Epoch [64/1000], best_fit: -831.2304\n",
      "Epoch [65/1000], best_fit: -831.2304\n",
      "Epoch [66/1000], best_fit: -831.2304\n",
      "Epoch [67/1000], best_fit: -831.2304\n",
      "Epoch [68/1000], best_fit: -831.2304\n",
      "Epoch [69/1000], best_fit: -831.2304\n",
      "Epoch [70/1000], best_fit: -826.5292\n",
      "Epoch [71/1000], best_fit: -811.0536\n",
      "Epoch [72/1000], best_fit: -804.5076\n",
      "Epoch [73/1000], best_fit: -804.5076\n",
      "Epoch [74/1000], best_fit: -804.5076\n",
      "Epoch [75/1000], best_fit: -804.5076\n",
      "Epoch [76/1000], best_fit: -804.5076\n",
      "Epoch [77/1000], best_fit: -804.5076\n",
      "Epoch [78/1000], best_fit: -802.3391\n",
      "Epoch [79/1000], best_fit: -802.3391\n",
      "Epoch [80/1000], best_fit: -802.3391\n",
      "Epoch [81/1000], best_fit: -802.3391\n",
      "Epoch [82/1000], best_fit: -800.4943\n",
      "Epoch [83/1000], best_fit: -800.4943\n",
      "Epoch [84/1000], best_fit: -800.4943\n",
      "Epoch [85/1000], best_fit: -800.4943\n",
      "Epoch [86/1000], best_fit: -800.4943\n"
     ]
    },
    {
     "ename": "KeyboardInterrupt",
     "evalue": "",
     "output_type": "error",
     "traceback": [
      "\u001b[0;31m---------------------------------------------------------------------------\u001b[0m",
      "\u001b[0;31mKeyboardInterrupt\u001b[0m                         Traceback (most recent call last)",
      "\u001b[0;32m/tmp/ipykernel_61971/4067943619.py\u001b[0m in \u001b[0;36m<module>\u001b[0;34m\u001b[0m\n\u001b[1;32m     50\u001b[0m \u001b[0;34m\u001b[0m\u001b[0m\n\u001b[1;32m     51\u001b[0m \u001b[0;34m\u001b[0m\u001b[0m\n\u001b[0;32m---> 52\u001b[0;31m \u001b[0mresult\u001b[0m\u001b[0;34m,\u001b[0m \u001b[0mhis\u001b[0m \u001b[0;34m=\u001b[0m \u001b[0mevol\u001b[0m\u001b[0;34m(\u001b[0m\u001b[0;36m1000\u001b[0m\u001b[0;34m,\u001b[0m \u001b[0mpopulation\u001b[0m\u001b[0;34m,\u001b[0m \u001b[0mpop_fit\u001b[0m\u001b[0;34m,\u001b[0m \u001b[0mmax_size_population\u001b[0m\u001b[0;34m=\u001b[0m \u001b[0;36m1000\u001b[0m\u001b[0;34m,\u001b[0m \u001b[0mpercent_parent\u001b[0m \u001b[0;34m=\u001b[0m \u001b[0;36m0.5\u001b[0m\u001b[0;34m,\u001b[0m \u001b[0mrate_mutation\u001b[0m\u001b[0;34m=\u001b[0m \u001b[0;36m0.1\u001b[0m\u001b[0;34m)\u001b[0m\u001b[0;34m\u001b[0m\u001b[0;34m\u001b[0m\u001b[0m\n\u001b[0m",
      "\u001b[0;32m/tmp/ipykernel_61971/4067943619.py\u001b[0m in \u001b[0;36mevol\u001b[0;34m(num_epochs, population, pop_fit, max_size_population, percent_parent, rate_mutation)\u001b[0m\n\u001b[1;32m     16\u001b[0m             \u001b[0;32mif\u001b[0m \u001b[0mflag\u001b[0m\u001b[0;34m:\u001b[0m\u001b[0;34m\u001b[0m\u001b[0;34m\u001b[0m\u001b[0m\n\u001b[1;32m     17\u001b[0m                 \u001b[0;31m# head = int(np.random.uniform(0.2, 0.7, 1) * len(large_population))\u001b[0m\u001b[0;34m\u001b[0m\u001b[0;34m\u001b[0m\u001b[0;34m\u001b[0m\u001b[0m\n\u001b[0;32m---> 18\u001b[0;31m                 \u001b[0;34m[\u001b[0m\u001b[0mnew_gen\u001b[0m\u001b[0;34m[\u001b[0m\u001b[0mi\u001b[0m\u001b[0;34m]\u001b[0m\u001b[0;34m]\u001b[0m\u001b[0;34m,\u001b[0m \u001b[0;34m[\u001b[0m\u001b[0mnew_gen_fit_func\u001b[0m\u001b[0;34m[\u001b[0m\u001b[0mi\u001b[0m\u001b[0;34m]\u001b[0m\u001b[0;34m]\u001b[0m \u001b[0;34m=\u001b[0m \u001b[0mmutate\u001b[0m\u001b[0;34m(\u001b[0m\u001b[0;34m[\u001b[0m\u001b[0mnew_gen\u001b[0m\u001b[0;34m[\u001b[0m\u001b[0mi\u001b[0m\u001b[0;34m]\u001b[0m\u001b[0;34m]\u001b[0m\u001b[0;34m,\u001b[0m \u001b[0;34m[\u001b[0m\u001b[0mnew_gen_fit_func\u001b[0m\u001b[0;34m[\u001b[0m\u001b[0mi\u001b[0m\u001b[0;34m]\u001b[0m\u001b[0;34m]\u001b[0m\u001b[0;34m)\u001b[0m\u001b[0;34m\u001b[0m\u001b[0;34m\u001b[0m\u001b[0m\n\u001b[0m\u001b[1;32m     19\u001b[0m \u001b[0;34m\u001b[0m\u001b[0m\n\u001b[1;32m     20\u001b[0m             \u001b[0;31m# order = np.array(np.random.choice(np.arange(len(large_population)), int(0.7*len(large_population)), False))\u001b[0m\u001b[0;34m\u001b[0m\u001b[0;34m\u001b[0m\u001b[0;34m\u001b[0m\u001b[0m\n",
      "\u001b[0;32m/tmp/ipykernel_61971/2259132430.py\u001b[0m in \u001b[0;36mmutate\u001b[0;34m(individuals, fit_funcs)\u001b[0m\n\u001b[1;32m     12\u001b[0m         \u001b[0;32mif\u001b[0m \u001b[0mnum_mutations\u001b[0m \u001b[0;34m>\u001b[0m \u001b[0;36m0\u001b[0m\u001b[0;34m:\u001b[0m\u001b[0;34m\u001b[0m\u001b[0;34m\u001b[0m\u001b[0m\n\u001b[1;32m     13\u001b[0m             \u001b[0mindividuals\u001b[0m\u001b[0;34m[\u001b[0m\u001b[0mi\u001b[0m\u001b[0;34m]\u001b[0m \u001b[0;34m=\u001b[0m \u001b[0mind\u001b[0m\u001b[0;34m\u001b[0m\u001b[0;34m\u001b[0m\u001b[0m\n\u001b[0;32m---> 14\u001b[0;31m             \u001b[0mfit_funcs\u001b[0m\u001b[0;34m[\u001b[0m\u001b[0mi\u001b[0m\u001b[0;34m]\u001b[0m \u001b[0;34m=\u001b[0m \u001b[0mfitness_func\u001b[0m\u001b[0;34m(\u001b[0m\u001b[0mindividuals\u001b[0m\u001b[0;34m[\u001b[0m\u001b[0mi\u001b[0m\u001b[0;34m]\u001b[0m\u001b[0;34m)\u001b[0m\u001b[0;34m\u001b[0m\u001b[0;34m\u001b[0m\u001b[0m\n\u001b[0m\u001b[1;32m     15\u001b[0m \u001b[0;34m\u001b[0m\u001b[0m\n\u001b[1;32m     16\u001b[0m \u001b[0;34m\u001b[0m\u001b[0m\n",
      "\u001b[0;32m/tmp/ipykernel_61971/640630394.py\u001b[0m in \u001b[0;36mfitness_func\u001b[0;34m(ind)\u001b[0m\n\u001b[1;32m      3\u001b[0m     \u001b[0mcost\u001b[0m \u001b[0;34m=\u001b[0m \u001b[0;36m0\u001b[0m\u001b[0;34m\u001b[0m\u001b[0;34m\u001b[0m\u001b[0m\n\u001b[1;32m      4\u001b[0m     \u001b[0;32mfor\u001b[0m \u001b[0mi\u001b[0m \u001b[0;32min\u001b[0m \u001b[0mrange\u001b[0m\u001b[0;34m(\u001b[0m\u001b[0mlen\u001b[0m\u001b[0;34m(\u001b[0m\u001b[0mind\u001b[0m\u001b[0;34m)\u001b[0m\u001b[0;34m)\u001b[0m\u001b[0;34m:\u001b[0m\u001b[0;34m\u001b[0m\u001b[0;34m\u001b[0m\u001b[0m\n\u001b[0;32m----> 5\u001b[0;31m         \u001b[0mcost\u001b[0m \u001b[0;34m+=\u001b[0m \u001b[0mdistance\u001b[0m\u001b[0;34m(\u001b[0m\u001b[0mind\u001b[0m\u001b[0;34m[\u001b[0m\u001b[0mi\u001b[0m\u001b[0;34m-\u001b[0m\u001b[0;36m1\u001b[0m\u001b[0;34m]\u001b[0m\u001b[0;34m,\u001b[0m \u001b[0mind\u001b[0m\u001b[0;34m[\u001b[0m\u001b[0mi\u001b[0m\u001b[0;34m]\u001b[0m\u001b[0;34m)\u001b[0m\u001b[0;34m\u001b[0m\u001b[0;34m\u001b[0m\u001b[0m\n\u001b[0m\u001b[1;32m      6\u001b[0m     \u001b[0;32mreturn\u001b[0m \u001b[0;34m-\u001b[0m\u001b[0mcost\u001b[0m\u001b[0;34m\u001b[0m\u001b[0;34m\u001b[0m\u001b[0m\n\u001b[1;32m      7\u001b[0m \u001b[0;34m\u001b[0m\u001b[0m\n",
      "\u001b[0;32m/tmp/ipykernel_61971/866854550.py\u001b[0m in \u001b[0;36mdistance\u001b[0;34m(i_th, j_th)\u001b[0m\n\u001b[1;32m      1\u001b[0m \u001b[0;32mdef\u001b[0m \u001b[0mdistance\u001b[0m\u001b[0;34m(\u001b[0m\u001b[0mi_th\u001b[0m\u001b[0;34m,\u001b[0m \u001b[0mj_th\u001b[0m\u001b[0;34m)\u001b[0m\u001b[0;34m:\u001b[0m\u001b[0;34m\u001b[0m\u001b[0;34m\u001b[0m\u001b[0m\n\u001b[0;32m----> 2\u001b[0;31m     \u001b[0;32mreturn\u001b[0m \u001b[0mnp\u001b[0m\u001b[0;34m.\u001b[0m\u001b[0msqrt\u001b[0m\u001b[0;34m(\u001b[0m\u001b[0mnp\u001b[0m\u001b[0;34m.\u001b[0m\u001b[0msum\u001b[0m\u001b[0;34m(\u001b[0m\u001b[0;34m(\u001b[0m\u001b[0mgraph\u001b[0m\u001b[0;34m[\u001b[0m\u001b[0mi_th\u001b[0m\u001b[0;34m]\u001b[0m \u001b[0;34m-\u001b[0m \u001b[0mgraph\u001b[0m\u001b[0;34m[\u001b[0m\u001b[0mj_th\u001b[0m\u001b[0;34m]\u001b[0m\u001b[0;34m)\u001b[0m \u001b[0;34m**\u001b[0m \u001b[0;36m2\u001b[0m\u001b[0;34m)\u001b[0m\u001b[0;34m)\u001b[0m\u001b[0;34m\u001b[0m\u001b[0;34m\u001b[0m\u001b[0m\n\u001b[0m\u001b[1;32m      3\u001b[0m \u001b[0mdistance\u001b[0m\u001b[0;34m(\u001b[0m\u001b[0;36m1\u001b[0m\u001b[0;34m,\u001b[0m \u001b[0;36m5\u001b[0m\u001b[0;34m)\u001b[0m\u001b[0;34m\u001b[0m\u001b[0;34m\u001b[0m\u001b[0m\n",
      "\u001b[0;32m<__array_function__ internals>\u001b[0m in \u001b[0;36msum\u001b[0;34m(*args, **kwargs)\u001b[0m\n",
      "\u001b[0;32m~/.local/lib/python3.9/site-packages/numpy/core/fromnumeric.py\u001b[0m in \u001b[0;36msum\u001b[0;34m(a, axis, dtype, out, keepdims, initial, where)\u001b[0m\n\u001b[1;32m   2239\u001b[0m         \u001b[0;32mreturn\u001b[0m \u001b[0mres\u001b[0m\u001b[0;34m\u001b[0m\u001b[0;34m\u001b[0m\u001b[0m\n\u001b[1;32m   2240\u001b[0m \u001b[0;34m\u001b[0m\u001b[0m\n\u001b[0;32m-> 2241\u001b[0;31m     return _wrapreduction(a, np.add, 'sum', axis, dtype, out, keepdims=keepdims,\n\u001b[0m\u001b[1;32m   2242\u001b[0m                           initial=initial, where=where)\n\u001b[1;32m   2243\u001b[0m \u001b[0;34m\u001b[0m\u001b[0m\n",
      "\u001b[0;32m~/.local/lib/python3.9/site-packages/numpy/core/fromnumeric.py\u001b[0m in \u001b[0;36m_wrapreduction\u001b[0;34m(obj, ufunc, method, axis, dtype, out, **kwargs)\u001b[0m\n\u001b[1;32m     85\u001b[0m                 \u001b[0;32mreturn\u001b[0m \u001b[0mreduction\u001b[0m\u001b[0;34m(\u001b[0m\u001b[0maxis\u001b[0m\u001b[0;34m=\u001b[0m\u001b[0maxis\u001b[0m\u001b[0;34m,\u001b[0m \u001b[0mout\u001b[0m\u001b[0;34m=\u001b[0m\u001b[0mout\u001b[0m\u001b[0;34m,\u001b[0m \u001b[0;34m**\u001b[0m\u001b[0mpasskwargs\u001b[0m\u001b[0;34m)\u001b[0m\u001b[0;34m\u001b[0m\u001b[0;34m\u001b[0m\u001b[0m\n\u001b[1;32m     86\u001b[0m \u001b[0;34m\u001b[0m\u001b[0m\n\u001b[0;32m---> 87\u001b[0;31m     \u001b[0;32mreturn\u001b[0m \u001b[0mufunc\u001b[0m\u001b[0;34m.\u001b[0m\u001b[0mreduce\u001b[0m\u001b[0;34m(\u001b[0m\u001b[0mobj\u001b[0m\u001b[0;34m,\u001b[0m \u001b[0maxis\u001b[0m\u001b[0;34m,\u001b[0m \u001b[0mdtype\u001b[0m\u001b[0;34m,\u001b[0m \u001b[0mout\u001b[0m\u001b[0;34m,\u001b[0m \u001b[0;34m**\u001b[0m\u001b[0mpasskwargs\u001b[0m\u001b[0;34m)\u001b[0m\u001b[0;34m\u001b[0m\u001b[0;34m\u001b[0m\u001b[0m\n\u001b[0m\u001b[1;32m     88\u001b[0m \u001b[0;34m\u001b[0m\u001b[0m\n\u001b[1;32m     89\u001b[0m \u001b[0;34m\u001b[0m\u001b[0m\n",
      "\u001b[0;31mKeyboardInterrupt\u001b[0m: "
     ]
    }
   ],
   "source": [
    "def evol(num_epochs, population, pop_fit, max_size_population, percent_parent, rate_mutation):\n",
    "    history = np.array([pop_fit[0]])\n",
    "    print('Epoch [{}/{}], best_fit: {:.4f}'\n",
    "        .format(0, num_epochs, pop_fit[0]))\n",
    "    for epoch in range(num_epochs):\n",
    "        # select parent\n",
    "        parent = select_parent(population, percent_parent)\n",
    "\n",
    "        # create new gen\n",
    "        new_gen = ordinal_hybridize(parent)\n",
    "        new_gen_fit_func = np.apply_along_axis(fitness_func, 1, new_gen)\n",
    "\n",
    "        # mutate\n",
    "        for i in range(len(new_gen)):\n",
    "            flag = (np.random.uniform(0, 1) < rate_mutation)\n",
    "            if flag:\n",
    "                # head = int(np.random.uniform(0.2, 0.7, 1) * len(large_population))\n",
    "                [new_gen[i]], [new_gen_fit_func[i]] = mutate([new_gen[i]], [new_gen_fit_func[i]])\n",
    "\n",
    "            # order = np.array(np.random.choice(np.arange(len(large_population)), int(0.7*len(large_population)), False))\n",
    "            # large_population[order], large_pop_fit[order] = mutate(large_population[order], large_pop_fit[order], gene_mutate_rate)\n",
    "\n",
    "        # merge\n",
    "        large_population = np.append(population, new_gen, axis=0)\n",
    "        large_pop_fit = np.append(\n",
    "            pop_fit, new_gen_fit_func, axis = 0)\n",
    "\n",
    "\n",
    "\n",
    "        large_population, large_pop_fit = sort_decrease(large_population, large_pop_fit)\n",
    "\n",
    "        if len(large_population) > max_size_population:\n",
    "            # choose_value: delete individual from choose_value*[pop_size] until large_size = pop_size\n",
    "            choose_value = np.random.uniform(0.3, 1)\n",
    "\n",
    "            count_delete = len(large_population) - max_size_population\n",
    "\n",
    "            delete_individual_ith = np.random.choice(np.arange(int(choose_value * max_size_population), len(large_population)), count_delete, False)\n",
    "\n",
    "            large_population = np.delete(large_population, delete_individual_ith, 0)\n",
    "            large_pop_fit = np.delete(large_pop_fit, delete_individual_ith, 0)\n",
    "\n",
    "        population, pop_fit = large_population, large_pop_fit\n",
    "        history = np.append(history, pop_fit[0])\n",
    "        print('Epoch [{}/{}], best_fit: {:.4f}'\n",
    "              .format(epoch + 1, num_epochs, pop_fit[0]))\n",
    "\n",
    "    print(population.shape)\n",
    "    return population[0], history\n",
    "\n",
    "\n",
    "result, his = evol(1000, population, pop_fit, max_size_population= 1000, percent_parent = 0.5, rate_mutation= 0.1)\n"
   ]
  },
  {
   "cell_type": "code",
   "execution_count": null,
   "metadata": {},
   "outputs": [],
   "source": [
    "plt.plot(np.arange(len(his)), his)\n",
    "    \n",
    "plt.xlabel(\"Epoch\")\n",
    "plt.ylabel(\"Fitness_func\")\n",
    "plt.show()"
   ]
  }
 ],
 "metadata": {
  "interpreter": {
   "hash": "f9f85f796d01129d0dd105a088854619f454435301f6ffec2fea96ecbd9be4ac"
  },
  "kernelspec": {
   "display_name": "Python 3.9.5 64-bit",
   "name": "python3"
  },
  "language_info": {
   "codemirror_mode": {
    "name": "ipython",
    "version": 3
   },
   "file_extension": ".py",
   "mimetype": "text/x-python",
   "name": "python",
   "nbconvert_exporter": "python",
   "pygments_lexer": "ipython3",
   "version": "3.9.5"
  },
  "orig_nbformat": 4
 },
 "nbformat": 4,
 "nbformat_minor": 2
}
