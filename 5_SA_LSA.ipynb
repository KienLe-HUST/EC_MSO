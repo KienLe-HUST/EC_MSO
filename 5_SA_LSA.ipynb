{
 "cells": [
  {
   "cell_type": "code",
   "execution_count": 2,
   "metadata": {},
   "outputs": [],
   "source": [
    "import numpy as np\n",
    "import sys\n",
    "import matplotlib.pyplot as plt\n",
    "from import_lib.func import sphere, weierstrass, ackley, rosenbrock, schwefel, griewank, rastrigin\n",
    "from import_lib.GA import population_init, factorial_cost, factorial_rank, skill_factor_best_task, polynomial_mutation, sbx_crossover\n",
    "from import_lib.MFEA_Model import MFEA_base, MFEA1\n",
    "from import_lib.benchmark import CEC17_benchmark_10tasks, GECCO20_benchmark_50tasks"
   ]
  },
  {
   "cell_type": "code",
   "execution_count": 3,
   "metadata": {},
   "outputs": [],
   "source": [
    "tasks = CEC17_benchmark_10tasks()"
   ]
  },
  {
   "cell_type": "code",
   "execution_count": 4,
   "metadata": {},
   "outputs": [
    {
     "name": "stdout",
     "output_type": "stream",
     "text": [
      "0.0\n",
      "0.0\n",
      "0.0\n",
      "0.0\n",
      "0.0\n",
      "4.440892098500626e-16\n",
      "0.0\n",
      "0.0006363918728311546\n",
      "0.0\n",
      "320000.0\n"
     ]
    }
   ],
   "source": [
    "print(tasks[0].func(tasks[0].encode(np.array([0] * 50))))\n",
    "print(tasks[1].func(tasks[1].encode(np.array([80] * 50))))\n",
    "print(tasks[2].func(tasks[2].encode(np.array([-80] * 50))))\n",
    "print(tasks[3].func(tasks[3].encode(np.array([-0.4] * 25))))\n",
    "print(tasks[4].func(tasks[4].encode(np.array([0] * 50))))\n",
    "print(tasks[5].func(tasks[5].encode(np.array([40] * 50))))\n",
    "print(tasks[6].func(tasks[6].encode(np.array([-0.4] * 50))))\n",
    "print(tasks[7].func(tasks[7].encode(np.array([420.9687] * 50))))\n",
    "print(tasks[8].func(tasks[8].encode(np.append(np.array([-80] * 25), np.array([80] * 25)))))\n",
    "print(tasks[9].func(tasks[9].encode(np.append(np.array([40] * 25), np.array([-40] * 25)))))\n"
   ]
  },
  {
   "cell_type": "code",
   "execution_count": 5,
   "metadata": {},
   "outputs": [
    {
     "data": {
      "text/plain": [
       "array([0., 0., 0., 0., 0., 0., 0., 0., 0., 0., 0., 0., 0., 0., 0., 0., 0.,\n",
       "       0., 0., 0., 0., 0., 0., 0., 0., 0., 0., 0., 0., 0., 0., 0., 0., 0.,\n",
       "       0., 0., 0., 0., 0., 0., 0., 0., 0., 0., 0., 0., 0., 0., 0., 0.])"
      ]
     },
     "execution_count": 5,
     "metadata": {},
     "output_type": "execute_result"
    }
   ],
   "source": [
    "tasks[1].decode(tasks[1].encode(np.array([80] * 50)))"
   ]
  },
  {
   "cell_type": "code",
   "execution_count": 6,
   "metadata": {},
   "outputs": [
    {
     "name": "stdout",
     "output_type": "stream",
     "text": [
      "[0.5 0.5]\n",
      "[0.5 0.5]\n",
      "[0.5 0.5]\n",
      "[0.5 0.5]\n",
      "[0.51 0.51]\n",
      "[0.5 0.5]\n",
      "[0.5 0.5]\n",
      "[0.9209687 0.9209687]\n",
      "[0.5 0.5]\n",
      "[ 1.3 -0.3]\n"
     ]
    }
   ],
   "source": [
    "print(tasks[0].encode(np.array([0] * 50))[[0, -1]])\n",
    "print(tasks[1].encode(np.array([80] * 50))[[0, -1]])\n",
    "print(tasks[2].encode(np.array([-80] * 50))[[0, -1]])\n",
    "print(tasks[3].encode(np.array([-0.4] * 25))[[0, -1]])\n",
    "print(tasks[4].encode(np.array([0] * 50))[[0, -1]])\n",
    "print(tasks[5].encode(np.array([40] * 50))[[0, -1]])\n",
    "print(tasks[6].encode(np.array([-0.4] * 50))[[0, -1]])\n",
    "print(tasks[7].encode(np.array([420.9687] * 50))[[0, -1]])\n",
    "print(tasks[8].encode(np.append(np.array([-80] * 25), np.array([80] * 25)))[[0, -1]])\n",
    "print(tasks[9].encode(np.append(np.array([40] * 25), np.array([-40] * 25)))[[0, -1]])"
   ]
  },
  {
   "cell_type": "code",
   "execution_count": 7,
   "metadata": {},
   "outputs": [
    {
     "data": {
      "text/plain": [
       "array([1., 1.])"
      ]
     },
     "execution_count": 7,
     "metadata": {},
     "output_type": "execute_result"
    }
   ],
   "source": [
    "fun = sphere(50,shift= 80,limited_space= True, lower_bound= -100, upper_bound= 100),   # 0\n",
    "fun[0].encode(np.array([180] * 50))[[0, -1]]"
   ]
  },
  {
   "cell_type": "code",
   "execution_count": 8,
   "metadata": {},
   "outputs": [
    {
     "name": "stdout",
     "output_type": "stream",
     "text": [
      "(300, 2) (300,)\n"
     ]
    }
   ],
   "source": [
    "test_pop, test_ska = population_init(100, 3, 2)\n",
    "print(test_pop.shape, test_ska.shape)"
   ]
  },
  {
   "cell_type": "code",
   "execution_count": 9,
   "metadata": {},
   "outputs": [
    {
     "data": {
      "text/plain": [
       "(array([0.        , 0.04729195, 0.31003015]),\n",
       " array([1.        , 0.95270805, 0.68996985]))"
      ]
     },
     "execution_count": 9,
     "metadata": {},
     "output_type": "execute_result"
    }
   ],
   "source": [
    "sbx_crossover(np.array([0, 0, 0.3]), np.array([0.99, 1, 0.7]))"
   ]
  },
  {
   "cell_type": "code",
   "execution_count": 10,
   "metadata": {},
   "outputs": [
    {
     "name": "stdout",
     "output_type": "stream",
     "text": [
      "[0.  1.  0.5]\n"
     ]
    }
   ],
   "source": [
    "a = np.array([0, 1, 0.5], dtype= np.float)\n",
    "print(polynomial_mutation(a, all_dimensions= False))\n"
   ]
  },
  {
   "cell_type": "markdown",
   "metadata": {},
   "source": [
    "#### MFEA: SA AND LSA"
   ]
  },
  {
   "cell_type": "code",
   "execution_count": null,
   "metadata": {},
   "outputs": [],
   "source": [
    "def Success_History_Memory_Update(M, next_update_position_M, S, delta, K):\n",
    "\n",
    "    for i in range(K):\n",
    "        for j in range(i + 1, K):\n",
    "            if len(S[i][j]) != 0:\n",
    "                M[i, j][next_update_position_M[i, j]] =\\\n",
    "                    np.sum(np.array(delta[i][j]) * np.array(S[i][j])**2)/np.sum(np.array(delta[i][j]) * (np.array(S[i][j]))+ 1e-10)\n",
    "                \n",
    "                next_update_position_M[i, j] = (next_update_position_M[i, j] + 1) % M.shape[2]\n",
    "\n",
    "    return M, next_update_position_M"
   ]
  },
  {
   "cell_type": "code",
   "execution_count": null,
   "metadata": {},
   "outputs": [],
   "source": [
    "def LSA_MFEA(MAXEVALS, num_inds_each_task, N_min = 50, tasks = [], nc = 2, nm = 5, H = 30, sigmoid = 0.1, \n",
    "            LSA = True, polynomial_all_gen = False):\n",
    "\n",
    "    #save history of factorial cost\n",
    "    history_cost = np.empty((0, len(tasks)), np.float)\n",
    "    \n",
    "    max_d = 0\n",
    "    for t in tasks:\n",
    "        if max_d < t.d:\n",
    "            max_d = t.d\n",
    "\n",
    "    N_max = num_inds_each_task\n",
    "    maxEvals = MAXEVALS/len(tasks)\n",
    "    eval_k = [0]*len(tasks)\n",
    "    epoch = 0\n",
    "\n",
    "    # initial population and skill_factor_arr\n",
    "    population, skill_factor_arr = population_init(\n",
    "        N = num_inds_each_task, \n",
    "        num_tasks = len(tasks), \n",
    "        d = max_d,\n",
    "        min_val = 0,\n",
    "        max_val = 1,\n",
    "    )\n",
    "\n",
    "    # get skill_factor for pop\n",
    "    skill_factor_arr = skill_factor_best_task(population, tasks)\n",
    "    population_factorial_cost = factorial_cost(population, skill_factor_arr, tasks)\n",
    "\n",
    "    history_cost = np.append(history_cost, [[np.min(population_factorial_cost[np.where(skill_factor_arr == idx)[0]]) for idx in range (len(tasks))]], axis = 0)\n",
    "\n",
    "    #Inittialize success history mem M\n",
    "    M = np.ones((len(tasks), len(tasks), H)) / 2\n",
    "    next_update_position_M = np.zeros((len(tasks), len(tasks)), dtype= np.int)\n",
    "\n",
    "    # mean and sd of rmp each generations\n",
    "    # len(task) * len(tasks) * generations * 2\n",
    "    saved_rmp = np.array([[[[0.5, 0]]]* len(tasks)] * len(tasks)).tolist()\n",
    "\n",
    "    while np.sum(eval_k) < MAXEVALS:\n",
    "\n",
    "        S = np.empty((len(tasks), len(tasks), 0)).tolist()\n",
    "        delta = np.empty((len(tasks), len(tasks), 0)).tolist()\n",
    "\n",
    "        #initial offspring for epoch\n",
    "        offspring = np.empty((0, max_d))\n",
    "        offspring_skill_factor = np.empty((0, ), np.int)\n",
    "        offspring_factorial_cost = np.empty((0, ), np.int)\n",
    "\n",
    "        # his rmp of this generation\n",
    "        rmp_this_gen = np.empty((len(tasks), len(tasks), 0)).tolist()\n",
    "\n",
    "        while len(offspring_skill_factor) < len(population):\n",
    "            #random 2 inds\n",
    "            [idx_pa, idx_pb] = np.random.randint(len(population), size = 2)\n",
    "            [pa, pb], [skf_pa, skf_pb] = population[[idx_pa, idx_pb]], skill_factor_arr[[idx_pa, idx_pb]]    \n",
    "\n",
    "            if skf_pa == skf_pb:\n",
    "                oa, ob = sbx_crossover(pa, pb, nc)\n",
    "\n",
    "                oa = polynomial_mutation(oa,nm, polynomial_all_gen)\n",
    "                ob = polynomial_mutation(ob,nm, polynomial_all_gen)\n",
    "                \n",
    "                skf_oa, skf_ob = skf_pa, skf_pa\n",
    "\n",
    "                # Evaluate oa, ob\n",
    "                fcost_oa, fcost_ob = tasks[skf_oa].func(oa), tasks[skf_ob].func(ob)\n",
    "                eval_k[skf_oa] += 1\n",
    "                eval_k[skf_ob] += 1\n",
    "            else:\n",
    "                #swap\n",
    "                if skf_pa > skf_pb: \n",
    "                    pa, pb = pb, pa\n",
    "                    skf_pa, skf_pb = skf_pb, skf_pa\n",
    "\n",
    "                # caculate rmp\n",
    "                mu = np.random.choice(M[skf_pa, skf_pb])\n",
    "                rmp = np.random.normal(mu, sigmoid)\n",
    "                if rmp < 0: rmp = 0\n",
    "                if rmp > 1: rmp = 1\n",
    "\n",
    "                # save generation's rmp\n",
    "                rmp_this_gen[skf_pa][skf_pb].append(rmp)\n",
    "\n",
    "                # Inter-task crossover\n",
    "                if np.random.uniform() < rmp:\n",
    "                    oa, ob = sbx_crossover(pa, pb, nc)\n",
    "\n",
    "                    oa = polynomial_mutation(oa,nm, polynomial_all_gen)\n",
    "                    ob = polynomial_mutation(ob,nm, polynomial_all_gen)\n",
    "                    \n",
    "                    skf_oa, skf_ob = np.random.choice([skf_pa, skf_pb], replace=True, size = 2)\n",
    "                else:\n",
    "                    # select pa' and pb'\n",
    "                    idx_pa2 = np.random.choice(np.where(skill_factor_arr == skf_pa)[0])\n",
    "                    idx_pb2 = np.random.choice(np.where(skill_factor_arr == skf_pb)[0])\n",
    "                    pa2 = population[idx_pa2]\n",
    "                    pb2 = population[idx_pb2]\n",
    "\n",
    "                    oa, _ = sbx_crossover(pa, pa2)\n",
    "                    ob, _ = sbx_crossover(pb, pb2)\n",
    "\n",
    "                    oa = polynomial_mutation(oa,nm, polynomial_all_gen)\n",
    "                    ob = polynomial_mutation(ob,nm, polynomial_all_gen)\n",
    "\n",
    "                    skf_oa, skf_ob = skf_pa, skf_pb\n",
    "                \n",
    "                # Evaluate oa, ob\n",
    "                fcost_oa, fcost_ob = tasks[skf_oa].func(oa), tasks[skf_ob].func(ob)\n",
    "                eval_k[skf_oa] += 1\n",
    "                eval_k[skf_ob] += 1\n",
    "\n",
    "                # Caculate the maximum imporvement percentage\n",
    "                Delta = 0\n",
    "                if (skf_oa == skf_pa):\n",
    "                    Delta = max(Delta, \n",
    "                        (population_factorial_cost[idx_pa] - fcost_oa)/population_factorial_cost[idx_pa]\n",
    "                    )\n",
    "                else:\n",
    "                    Delta = max(Delta, \n",
    "                        (population_factorial_cost[idx_pb] - fcost_oa)/population_factorial_cost[idx_pb]\n",
    "                    )\n",
    "                if (skf_ob == skf_pa):\n",
    "                    Delta = max(Delta, \n",
    "                        (population_factorial_cost[idx_pa] - fcost_ob)/population_factorial_cost[idx_pa]\n",
    "                    )\n",
    "                else:\n",
    "                    Delta = max(Delta, \n",
    "                        (population_factorial_cost[idx_pb] - fcost_ob)/population_factorial_cost[idx_pb]\n",
    "                    )\n",
    "\n",
    "                if Delta > 0:\n",
    "                    S[skf_pa][skf_pb].append(rmp)\n",
    "                    delta[skf_pa][skf_pb].append(Delta)\n",
    "\n",
    "            offspring = np.append(offspring, [oa, ob], axis = 0)\n",
    "            offspring_skill_factor = np.append(offspring_skill_factor, [skf_oa, skf_ob])\n",
    "            offspring_factorial_cost = np.append(offspring_factorial_cost, [fcost_oa, fcost_ob])\n",
    "        \n",
    "        M, next_update_position_M = Success_History_Memory_Update(M, next_update_position_M, S, delta, K = len(tasks))\n",
    "\n",
    "        # update pop\n",
    "        population = np.append(population, offspring, axis = 0)\n",
    "        skill_factor_arr = np.append(skill_factor_arr, offspring_skill_factor, axis = 0)\n",
    "        population_factorial_cost = np.append(population_factorial_cost, offspring_factorial_cost, axis = 0)\n",
    "\n",
    "        # Linear_Population_Size_Reduction_Strategy \n",
    "        idx_selected_inds = np.empty((0,),dtype=int)\n",
    "        scalar_fitness = 1/factorial_rank(population_factorial_cost, skill_factor_arr, len(tasks))\n",
    "        for i in range(len(tasks)): \n",
    "            if LSA :\n",
    "                N_i = int(min(N_max - eval_k[i]/maxEvals * (N_max - N_min), len(np.where(skill_factor_arr == i)[0])))\n",
    "            else:\n",
    "                N_i = num_inds_each_task\n",
    "            ind_task_i = np.where(skill_factor_arr == i)[0]\n",
    "            sort_idx = ind_task_i[np.argsort(- scalar_fitness[ind_task_i])]\n",
    "            idx_selected_inds = np.append(idx_selected_inds, sort_idx[:N_i], axis = 0)\n",
    "        \n",
    "        population = population[idx_selected_inds]\n",
    "        skill_factor_arr = skill_factor_arr[idx_selected_inds]\n",
    "        population_factorial_cost = population_factorial_cost[idx_selected_inds]\n",
    "\n",
    "        #save history\n",
    "        history_cost = np.append(history_cost, [[np.min(population_factorial_cost[np.where(skill_factor_arr == idx)[0]]) for idx in range (len(tasks))]], axis = 0)\n",
    "        \n",
    "        #save mu and sigmoid rmp\n",
    "        for i in range (len(tasks)):\n",
    "            for j in range (i + 1, len(tasks)):\n",
    "                if len(rmp_this_gen[i][j]) != 0:\n",
    "                    mu = np.mean(rmp_this_gen[i][j])\n",
    "                    sd = np.std(rmp_this_gen[i][j])\n",
    "                    saved_rmp[i][j].append([mu, sd])\n",
    "\n",
    "        #print\n",
    "        sys.stdout.write('\\r')\n",
    "        sys.stdout.write('Epoch {}, [%-20s] %3d%% ,pop_size: {}, func_val: {}'\n",
    "            .format(epoch + 1, len(population),[np.min(population_factorial_cost[np.where(skill_factor_arr == idx)[0]]) for idx in range (len(tasks))])\n",
    "            % ('=' * ((np.sum(eval_k) + 1) // (MAXEVALS // 20)) + '>' , (np.sum(eval_k) + 1) * 100 // MAXEVALS)\n",
    "            )\n",
    "        sys.stdout.flush()\n",
    "\n",
    "        epoch += 1\n",
    "\n",
    "    #find solve\n",
    "    sol_idx = [np.argmin(population_factorial_cost[np.where(skill_factor_arr == idx)]) for idx in range (len(tasks))]\n",
    "    sol = [task.decode(population[np.where(skill_factor_arr == idx)][sol_idx[idx]]) for idx, task in enumerate(tasks)]\n",
    "\n",
    "    return sol, history_cost, np.array(saved_rmp)"
   ]
  },
  {
   "cell_type": "code",
   "execution_count": null,
   "metadata": {},
   "outputs": [],
   "source": [
    "mfea_sol, mfea_his = MFEA_base(num_epochs= 1000, num_inds_each_task= 100, tasks = tasks,\n",
    "                        rmp = 0.3, nc = 2, nm = 5, evaluate_initial_skillFactor= True,\n",
    "                        one_line=False, num_epochs_printed=10 )\n",
    "\n",
    "np.save(file = \"./RESULTS/mfea_base_his_CEC17.npy\", arr = mfea_his )"
   ]
  },
  {
   "cell_type": "code",
   "execution_count": null,
   "metadata": {},
   "outputs": [],
   "source": [
    "sa_sol, sa_his, sa_rmp_his = LSA_MFEA(100000 * len(tasks), LSA = False, num_inds_each_task= 100, tasks= tasks,\n",
    "                                    nc = 2, nm = 5, H = 30, sigmoid= 0.1)\n",
    "\n",
    "np.save(file = \"./RESULTS/sa_his_CEC17.npy\", arr = sa_his)\n",
    "np.save(file = \"./RESULTS/sa_rmp_his_CEC17.npy\", arr = sa_rmp_his )"
   ]
  },
  {
   "cell_type": "code",
   "execution_count": null,
   "metadata": {},
   "outputs": [],
   "source": [
    "lsa_sol, lsa_his, lsa_rmp_his = LSA_MFEA(80000 * len(tasks), num_inds_each_task= 100, tasks= tasks, \n",
    "                                        nc = 2, nm = 5, H = 30, sigmoid= 0.1)\n",
    "np.save(file = \"./RESULTS/lsa_his_CEC17.npy\", arr = lsa_his)\n",
    "np.save(file = \"./RESULTS/lsa_rmp_his_CEC17.npy\", arr = lsa_rmp_his )"
   ]
  },
  {
   "cell_type": "code",
   "execution_count": null,
   "metadata": {},
   "outputs": [],
   "source": [
    "mfea_his = np.load(file = \"./RESULTS/mfea_base_his_CEC17.npy\")\n",
    "\n",
    "sa_his = np.load(file = \"./RESULTS/sa_his_CEC17.npy\")\n",
    "sa_rmp_his  = np.load(file = \"./RESULTS/sa_rmp_his_CEC17.npy\", allow_pickle= True)\n",
    "\n",
    "lsa_his = np.load(file = \"./RESULTS/lsa_his_CEC17.npy\")\n",
    "lsa_rmp_his  = np.load(file = \"./RESULTS/lsa_rmp_his_CEC17.npy\", allow_pickle= True)"
   ]
  },
  {
   "cell_type": "code",
   "execution_count": null,
   "metadata": {},
   "outputs": [],
   "source": [
    "fig = plt.figure(figsize = (30, 10), dpi= 200)\n",
    "fig.suptitle(\"Compare\\n\", size = 15)\n",
    "fig.set_facecolor(\"white\")\n",
    "\n",
    "label_legend = [\"MFEA\", \"SA\", \"LSA MFEA\"]\n",
    "\n",
    "for i in range (len(tasks)):\n",
    "    for idx, sub_his in enumerate([mfea_his, sa_his, lsa_his]): \n",
    "        plt.subplot(2, int(len(tasks) / 2), i + 1)\n",
    "\n",
    "        plt.plot(np.arange(0, 1000, 100), sub_his[np.arange(0, 1000, 100), i], label= label_legend[idx])\n",
    "        plt.scatter(np.arange(0, 1000, 100), sub_his[np.arange(0, 1000, 100), i])\n",
    "        plt.legend()\n",
    "\n",
    "    plt.title(tasks[i].name)\n",
    "    plt.xlabel(\"Epoch\")\n",
    "    plt.ylabel(\"F(x)\")\n",
    "    plt.yscale(\"log\")"
   ]
  },
  {
   "cell_type": "code",
   "execution_count": null,
   "metadata": {},
   "outputs": [],
   "source": [
    "fig = plt.figure(figsize = (30, 20), dpi= 200)\n",
    "fig.suptitle(\"SA RMP Val\\n\", size = 15)\n",
    "fig.set_facecolor(\"white\")\n",
    "\n",
    "for i in range (len(tasks)):\n",
    "    for j in range (len(tasks)):\n",
    "        r, c = min(i, j), max(i, j)\n",
    "        if i != j: \n",
    "            plt.subplot(int(np.ceil(len(tasks) / 3)), 3, i + 1)\n",
    "            plt.plot(np.arange(len(sa_rmp_his[r][c])), np.array(sa_rmp_his[r][c])[:, 0], label= 'task: ' +str(j + 1))\n",
    "            plt.legend()\n",
    "        else:\n",
    "            plt.subplot(int(np.ceil(len(tasks) / 3)), 3, i + 1)\n",
    "            plt.plot(np.arange(1000), np.ones_like(np.arange(1000)), label= 'task: ' +str(j + 1))\n",
    "            plt.legend()\n",
    "\n",
    "\n",
    "\n",
    "\n",
    "    plt.title('task ' + str( i + 1))\n",
    "    plt.xlabel(\"Epoch\")\n",
    "    plt.ylabel(\"M_rmp\")\n",
    "    plt.ylim(bottom = -0.1, top = 1.1)\n"
   ]
  },
  {
   "cell_type": "code",
   "execution_count": null,
   "metadata": {},
   "outputs": [],
   "source": [
    "fig = plt.figure(figsize = (30, 20), dpi= 200)\n",
    "fig.suptitle(\"LSA RMP Val\\n\", size = 15)\n",
    "fig.set_facecolor(\"white\")\n",
    "\n",
    "for i in range (len(tasks)):\n",
    "    for j in range (len(tasks)):\n",
    "        r, c = min(i, j), max(i, j)\n",
    "        if i != j: \n",
    "            plt.subplot(int(np.ceil(len(tasks) / 3)), 3, i + 1)\n",
    "            plt.plot(np.arange(1000), np.array(lsa_rmp_his[r][c])[:1000, 0], label= 'task: ' +str(j + 1))\n",
    "            plt.legend()\n",
    "        else:\n",
    "            plt.subplot(int(np.ceil(len(tasks) / 3)), 3, i + 1)\n",
    "            plt.plot(np.arange(1000), np.ones_like(np.arange(1000)), label= 'task: ' +str(j + 1))\n",
    "            plt.legend()\n",
    "\n",
    "\n",
    "\n",
    "    plt.title('task ' + str( i))\n",
    "    plt.xlabel(\"Epoch\")\n",
    "    plt.ylabel(\"M_rmp\")\n",
    "    plt.ylim(bottom = -0.1, top = 1.1)\n"
   ]
  },
  {
   "cell_type": "markdown",
   "metadata": {},
   "source": [
    "#### GECCO 20\n"
   ]
  },
  {
   "cell_type": "code",
   "execution_count": 12,
   "metadata": {},
   "outputs": [],
   "source": [
    "ID = 1\n",
    "gecco_tasks = GECCO20_benchmark_50tasks(ID)"
   ]
  },
  {
   "cell_type": "code",
   "execution_count": 13,
   "metadata": {},
   "outputs": [
    {
     "name": "stdout",
     "output_type": "stream",
     "text": [
      "Epoch [100/1000], [==>                 ]  10% ,func_val: [8602.716794930746, 10595.817250781281, 9921.325771357591, 10447.233794062477, 9317.450839271805, 9645.09835816305, 10227.323360693304, 10362.64206885268, 9744.309891823284, 8655.288786260076, 10273.397295757235, 10364.23642279494, 10038.416699365936, 10680.018520536683, 9932.486049102867, 9802.796066436817, 8599.563092247534, 9832.55704745912, 8830.5934687134, 10116.037802341718, 9903.07213902626, 10311.556280302046, 10440.54876008618, 10233.606778396648, 10673.711590948662, 10293.135234712381, 10132.512870584696, 8971.870559969566, 10601.132924961234, 10587.462932108918, 10679.620978772627, 10035.475876013352, 10121.728668708964, 10251.872112429548, 10600.601960553558, 9928.939921156676, 9074.06863461735, 9991.546117684036, 9622.17002851976, 9484.707346168936, 10174.44917013126, 9907.070851474487, 10171.335812148762, 10715.640577219854, 9907.357516684124, 10357.151713508381, 9704.65319362784, 9913.102202708338, 10250.979995841846, 9385.273623945526]\n",
      "\n",
      "Epoch [200/1000], [====>               ]  20% ,func_val: [1378.4852954479416, 1443.4758152676607, 1281.345067204528, 1412.4937571894095, 1417.2242927637037, 1272.8281079141666, 1301.8946350054882, 1309.3645384231875, 1386.4350626293844, 1294.609190810005, 1408.3181962751635, 1419.0433440234838, 1258.845981836783, 1296.8569293715111, 1399.7360092941522, 1281.804701351766, 1330.270896670256, 1401.9570139076166, 1389.430403189111, 1498.19334923415, 1335.1747207844462, 1451.507943221913, 1379.3738150572449, 1367.8076310143438, 1267.3601604675791, 1419.566525007238, 1403.4539075993764, 1432.4178636959243, 1370.6084135931383, 1409.2149059757196, 1381.6633743061368, 1247.472043885616, 1311.551183743144, 1502.5219399059088, 1234.4775765185564, 1323.5751287242376, 1407.6750198725488, 1401.463234661862, 1434.1972497925, 1495.3409149373044, 1405.869982176042, 1497.8688288142953, 1287.942844238985, 1413.3724299156727, 1332.8596692133594, 1433.6414743544565, 1393.5141888757475, 1345.225960777622, 1419.1569454434048, 1468.9000674609035]\n",
      "\n",
      "Epoch [300/1000], [======>             ]  30% ,func_val: [338.1457136472372, 359.16166970775004, 335.70421021323807, 336.79878041807837, 338.6945477623777, 341.39171144364803, 341.2387015917877, 318.57456620677976, 345.12196055801104, 353.1542780610494, 354.14661762898635, 326.9110219819228, 322.81763420689873, 313.28367622981256, 336.4086585273902, 328.20442158175695, 337.890569304278, 350.64175176474026, 324.1766672956291, 339.41245326355323, 360.9860114109973, 334.25200154906565, 331.78979417662595, 329.6109444589461, 328.60501901339904, 349.51292251951287, 335.1427722396688, 358.47905448426775, 319.9114342647364, 332.82628315232824, 341.5016773882399, 312.2667987993675, 314.6142407181042, 348.5351064530596, 346.43379891674783, 350.86067574799694, 330.3875704719257, 333.56359080406855, 305.8018088159368, 311.9892227143938, 369.1513380520986, 343.4487977441109, 315.5503966550165, 361.4542017138701, 361.0816933392185, 346.3829036206913, 346.28618597529527, 330.9157682909069, 322.1331133709038, 341.40306024267545]\n",
      "\n",
      "Epoch [400/1000], [========>           ]  40% ,func_val: [99.65080192638119, 106.89693928419925, 107.35356949170033, 98.83030115678993, 111.17885092235531, 100.43262894449992, 114.51168688734474, 96.47662540838901, 108.08331225692812, 107.76300220490376, 107.02514728654373, 104.16893726522738, 106.04980141893554, 80.51814639207402, 116.99080502832705, 113.13493042481721, 90.46463493249442, 108.52990122175714, 104.59222984943295, 98.16078251296877, 101.30024193828615, 105.78039862023178, 103.80631321812378, 105.52230946032616, 102.36935720757782, 102.41267811133308, 94.75131523908043, 93.57572250563585, 105.38779143393619, 112.50750831592458, 94.51209659843568, 105.30284848230127, 89.9355449957548, 97.20663423833926, 103.71127527256402, 100.68888534476413, 101.79622349603122, 95.43927469166707, 113.54621020886852, 97.2331157958788, 105.41085285783163, 90.8233867637343, 105.26585319048982, 96.16380567041428, 99.68473960742074, 104.9512111341691, 104.9021617948343, 103.25504559556977, 104.41846073968561, 94.05261453468378]\n",
      "\n",
      "Epoch [500/1000], [==========>         ]  50% ,func_val: [31.655567310288408, 31.393638602113906, 31.466420408248077, 32.02352228985725, 32.19571258255411, 30.406750590742607, 29.558432774221185, 31.26074836940472, 30.840312732019378, 29.81655163962212, 29.985050034353954, 29.20727658566573, 31.08150149112494, 31.77111048518344, 31.365148818140035, 32.34191836311236, 31.39894162921531, 30.96745555559633, 31.833258043322008, 32.46298101844004, 32.019041511122275, 32.705558703781094, 32.28228548929047, 32.620526098994446, 31.9502294511082, 33.54792284139964, 31.66272726178795, 32.197021608282434, 31.233762015378023, 31.580754555024747, 32.901605029470865, 31.68160038696145, 33.07034639085047, 30.347006367866744, 31.816720820504173, 31.014629944228922, 30.49316657773127, 29.294498347963092, 30.88922067238006, 31.75031659138135, 29.74149655266448, 32.487213011324975, 31.652209973453697, 30.485837150863706, 30.543323883409727, 29.34668400209037, 31.644405366478846, 33.638476070995594, 32.28254906166085, 31.78758489196044]\n",
      "\n",
      "Epoch [600/1000], [============>       ]  60% ,func_val: [11.470641592535078, 11.828470029870736, 11.553961810325635, 11.97961274579741, 12.061784591065937, 12.019374021559242, 10.396828310000945, 10.243716385096745, 11.394960266930909, 12.701543087031531, 12.399629311054696, 11.841787265186548, 11.733498342233418, 12.32197733858548, 12.200373492350462, 11.803033828546432, 11.127219490523299, 11.422356146530221, 11.615363765569425, 11.737653105547261, 12.480751069679712, 12.458803062195152, 11.523636947853952, 10.048131262353964, 11.577379861124262, 11.495701096090777, 10.037101936726735, 11.780448857321907, 10.207212655754878, 10.434565146140788, 12.6926056800534, 10.108813318389414, 12.2501120957952, 9.111889336025698, 11.843344919671058, 11.571590567494956, 11.739837781297727, 12.514222133294194, 11.455252359948, 11.762528507100486, 11.53403864705675, 11.062639551652698, 11.382220823652055, 12.777598451749418, 11.42991501868249, 11.402561097576863, 11.390466728776241, 12.053117353076553, 12.022293549324768, 11.874851562350162]\n",
      "\n",
      "Epoch [700/1000], [==============>     ]  70% ,func_val: [5.3664464776856775, 5.106147697658718, 5.260417035517865, 5.124999622865105, 5.394777000354655, 5.082285220829504, 5.365422780729406, 5.065212654030827, 5.190373526465091, 5.120424117352436, 5.014913000756815, 5.133829100436423, 5.219452596736278, 4.635382150198134, 5.14509003471616, 5.1226339227681015, 5.300274858103063, 5.204675998175915, 5.3961133173710705, 5.112416013707553, 5.184506162464884, 5.349662626228851, 5.267777648501997, 4.96902084462367, 5.38304426950647, 5.423491040996859, 5.275531646354745, 5.059657701325508, 5.058198916989607, 5.3221818299931085, 5.299755677708739, 5.172875127678888, 5.029607137818194, 5.161251869176928, 5.177925449720169, 5.347696112618161, 5.301485368219271, 5.180080898045887, 4.9205081745472175, 5.272826517633987, 5.25389919538442, 5.258379890272234, 5.1466502710616275, 5.235191949224435, 5.176659101621876, 5.036230601201607, 5.327571687422412, 5.10094332984262, 4.994389633932791, 5.548084242294955]\n",
      "\n",
      "Epoch [800/1000], [================>   ]  80% ,func_val: [2.031719721501624, 2.1440460987563945, 2.1292513418819197, 2.1228312807243217, 2.081150390378952, 2.1362775955505144, 2.282789135551312, 2.2279077235103184, 2.030983774011, 1.919301897513869, 2.1380836226494457, 2.0519275241186654, 2.080193171624738, 2.246978641575312, 2.1160578696338854, 1.9939060958237953, 2.3076078285962014, 2.0952939020028523, 2.1153937944102195, 2.2922761140207135, 2.1025554331039675, 2.2627230581614324, 2.1813344564146617, 2.1962871920132607, 2.0253787846362297, 2.230498338642731, 2.1151947266575437, 2.157288903718934, 2.1671557962111585, 2.2001389253967205, 2.1478928613504773, 2.105947545729409, 2.218841736514194, 2.0417896248708285, 2.0396691567995795, 2.024820624356977, 2.1547597398850344, 2.18963244870833, 2.1808519669452298, 2.055400527356115, 2.283423306370681, 1.983941114014707, 2.1725490664042897, 2.218758618156683, 2.1221247636013167, 2.1373755525939684, 2.131901210773303, 2.1668689523143874, 2.200654101129391, 2.128247875675294]\n",
      "\n",
      "Epoch [900/1000], [==================> ]  90% ,func_val: [1.0927844539516118, 1.0912197936057413, 1.0069937440158225, 1.0915418670842403, 1.0746594929832844, 1.0695943697283459, 1.0200542104471206, 1.1016939113035784, 1.0557786023947304, 1.0786549029013996, 1.072466488250563, 1.0255456206179738, 1.0256779839475594, 1.1181417404260052, 1.0945504649407956, 1.0862473180738488, 1.0919126538644068, 1.0935224736243663, 1.0031489918960388, 1.0753733741171358, 1.0781518299118447, 1.1024211104921877, 1.0801773362738045, 1.1108102837787572, 1.0719465835847675, 1.0712340260205955, 1.0486486631658405, 1.097120087402206, 1.0422239117994752, 1.0927708527136153, 1.0771379439436761, 1.0894503166484517, 1.1267246749329245, 1.0667242498687457, 1.0688156156055064, 1.0924072303270325, 1.1019575334914384, 1.0401778435648596, 1.0855107456290725, 1.0455212210733804, 0.9548786064663399, 1.0918129445669031, 1.102688773718305, 1.004530417790288, 1.0280981220894072, 1.099524838698029, 1.0592032249402243, 1.1088083216912645, 1.0872148150593939, 1.1092668206529297]\n",
      "\n",
      "Epoch [1000/1000], [====================>] 100% ,func_val: [0.5539513028268466, 0.565816922762496, 0.5549910746218916, 0.5803614524695263, 0.5421404178592004, 0.5655455598795674, 0.5519838467124875, 0.5608957961660315, 0.5812082069886463, 0.5689625257193481, 0.5615165648814855, 0.5764559511764022, 0.5738308959318502, 0.5769714526124622, 0.5788322083507611, 0.55586327189421, 0.5531084922120131, 0.5644602417673794, 0.581819397974744, 0.5634632036350186, 0.5595280223598916, 0.5829104434442274, 0.4931289641972942, 0.5781096431944465, 0.5728765338244334, 0.5723784429481075, 0.55423240589873, 0.5795080924460757, 0.560833851486338, 0.556546469561105, 0.5647303440682556, 0.5613080678287942, 0.5614417141863149, 0.560417224362793, 0.5835523496245235, 0.5698522495839052, 0.5715721245569492, 0.5769996470555911, 0.5500796788688965, 0.5711056379959659, 0.5593071080643645, 0.5635173244853164, 0.567816660845252, 0.5748184475261001, 0.5654712055379101, 0.5612168685226365, 0.5572407740989964, 0.5483179434516677, 0.5522610159716564, 0.5464601340078507]\n",
      "\n",
      "END!\n"
     ]
    }
   ],
   "source": [
    "mfea_sol, mfea_his = MFEA1(num_epochs= 1000, num_inds_each_task= 100, tasks = gecco_tasks,\n",
    "                        rmp = 0.3, nc = 2, nm = 5, evaluate_initial_skillFactor= True,\n",
    "                        one_line=True, num_epochs_printed=10 )\n",
    "\n",
    "np.save(file = \"./RESULTS/mfea_base_his_GECCO20_\" + ID + \".npy\", arr = mfea_his )"
   ]
  },
  {
   "cell_type": "code",
   "execution_count": null,
   "metadata": {},
   "outputs": [],
   "source": [
    "sa_sol, sa_his, sa_rmp_his = LSA_MFEA(100000 * len(gecco_tasks), LSA = False, num_inds_each_task= 100, tasks= gecco_tasks,\n",
    "                                    nc = 2, nm = 5, H = 30, sigmoid= 0.1)\n",
    "\n",
    "np.save(file = \"./RESULTS/sa_his_GECCO20_\" + ID + \".npy\", arr = sa_his)\n",
    "np.save(file = \"./RESULTS/sa_rmp_his_GECCO20_\" + ID + \".npy\", arr = sa_rmp_his )"
   ]
  },
  {
   "cell_type": "code",
   "execution_count": null,
   "metadata": {},
   "outputs": [],
   "source": [
    "lsa_sol, lsa_his, lsa_rmp_his = LSA_MFEA(80000 * len(gecco_tasks), num_inds_each_task= 100, tasks= gecco_tasks, \n",
    "                                        nc = 2, nm = 5, H = 30, sigmoid= 0.1)\n",
    "np.save(file = \"./RESULTS/lsa_his_GECCO20_\" + ID + \".npy\", arr = lsa_his)\n",
    "np.save(file = \"./RESULTS/lsa_rmp_his_GECCO20_\" + ID + \".npy\", arr = lsa_rmp_his )"
   ]
  }
 ],
 "metadata": {
  "interpreter": {
   "hash": "f9f85f796d01129d0dd105a088854619f454435301f6ffec2fea96ecbd9be4ac"
  },
  "kernelspec": {
   "display_name": "Python 3.9.5 64-bit",
   "language": "python",
   "name": "python3"
  },
  "language_info": {
   "codemirror_mode": {
    "name": "ipython",
    "version": 3
   },
   "file_extension": ".py",
   "mimetype": "text/x-python",
   "name": "python",
   "nbconvert_exporter": "python",
   "pygments_lexer": "ipython3",
   "version": "3.9.5"
  },
  "orig_nbformat": 4
 },
 "nbformat": 4,
 "nbformat_minor": 2
}
