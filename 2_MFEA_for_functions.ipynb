{
 "cells": [
  {
   "cell_type": "code",
   "execution_count": 1,
   "metadata": {},
   "outputs": [],
   "source": [
    "import numpy as np"
   ]
  },
  {
   "cell_type": "markdown",
   "metadata": {},
   "source": [
    "### Tối ưu đồng thời hàm Sphere, Ackley, Rosenbrock\n",
    "\n",
    "Sphere function:\n",
    "$$\n",
    "f(x) = \\sum_{i=1}^n{x_i^2} \\; \\; with \\;\\;x \\in R^n\n",
    "$$ \n",
    "Ackley function:\n",
    "$$\n",
    "f(x) = -a.exp\\Big(-b\\sqrt{\\frac{1}{d}\\sum_{i=1}^d{x_i^2}}\\Big)- exp(\\frac{1}{d}\\sum_{i=1}^dcos(cx_i))+a+exp(1)\n",
    "$$\n",
    "Rosenbrock function:\n",
    "$$\n",
    "f(x) = \\sum_{i = 1}^{n - 1}[100(x_{i + 1} - x_i^2)^2 + (x_i - 1)^2]\n",
    "$$"
   ]
  },
  {
   "cell_type": "code",
   "execution_count": 2,
   "metadata": {},
   "outputs": [],
   "source": [
    "class sphere:\n",
    "    def __init__(self, d):\n",
    "        self.d = d\n",
    "\n",
    "    def decode(self, x):\n",
    "        return x[:self.d]\n",
    "\n",
    "    def func(self, x):\n",
    "        x = self.decode(x)\n",
    "        return np.sum(x**2, axis = 0)"
   ]
  },
  {
   "cell_type": "code",
   "execution_count": 3,
   "metadata": {},
   "outputs": [],
   "source": [
    "class ackley:\n",
    "    a = 20\n",
    "    b = 0.2\n",
    "    c = 2*np.pi \n",
    "    def __init__(self, d):\n",
    "        self.d = d\n",
    "\n",
    "    def decode(self, x):\n",
    "        return x[:self.d]\n",
    "\n",
    "    def func(self, x):\n",
    "        x = self.decode(x)\n",
    "        return (-self.a * np.exp(-self.b*np.sqrt(np.average(x**2)))\n",
    "        - np.exp(np.average(np.cos(self.c * x)))\n",
    "        + self.a\n",
    "        + np.exp(1)\n",
    "        )\n",
    "        "
   ]
  },
  {
   "cell_type": "code",
   "execution_count": 4,
   "metadata": {},
   "outputs": [],
   "source": [
    "class rosenbrock:\n",
    "    def __init__(self, d):\n",
    "        self.d = d\n",
    "\n",
    "    def decode(self, x):\n",
    "        return x[:self.d]\n",
    "\n",
    "    def func(self, x):\n",
    "        x = self.decode(x)\n",
    "        l = 100*np.sum((np.delete(x, 0, 0) - np.delete(x, -1, 0 )**2) ** 2)\n",
    "        r = np.sum((np.delete(x, -1, 0) - 1) ** 2)\n",
    "        return l + r\n"
   ]
  },
  {
   "cell_type": "code",
   "execution_count": 5,
   "metadata": {},
   "outputs": [
    {
     "name": "stdout",
     "output_type": "stream",
     "text": [
      "7.0164536082694\n",
      "14\n",
      "201\n"
     ]
    }
   ],
   "source": [
    "print(ackley(3).func(np.array([1, 2, 3])))\n",
    "print(sphere(3).func(np.array([1, 2, 3])))\n",
    "print(rosenbrock(3).func(np.array([1, 2, 3])))"
   ]
  },
  {
   "cell_type": "code",
   "execution_count": 6,
   "metadata": {},
   "outputs": [
    {
     "name": "stdout",
     "output_type": "stream",
     "text": [
      "4.440892098500626e-16\n",
      "0\n",
      "0\n"
     ]
    }
   ],
   "source": [
    "print(ackley(3).func(np.array([0, 0, 0])))\n",
    "print(sphere(3).func(np.array([0, 0, 0])))\n",
    "print(rosenbrock(3).func(np.array([1, 1, 1])))"
   ]
  },
  {
   "cell_type": "code",
   "execution_count": 7,
   "metadata": {},
   "outputs": [
    {
     "data": {
      "text/plain": [
       "(100, 2)"
      ]
     },
     "execution_count": 7,
     "metadata": {},
     "output_type": "execute_result"
    }
   ],
   "source": [
    "def population_init(nums, d):\n",
    "    return np.array([np.random.uniform(-100, 200, d) for i in range(nums)])\n",
    "    \n",
    "population_init(100, 2).shape"
   ]
  },
  {
   "cell_type": "code",
   "execution_count": 8,
   "metadata": {},
   "outputs": [
    {
     "data": {
      "text/plain": [
       "(100, 2)"
      ]
     },
     "execution_count": 8,
     "metadata": {},
     "output_type": "execute_result"
    }
   ],
   "source": [
    "def matrix_cost_pop(population, tasks = []):\n",
    "    return np.array([np.apply_along_axis(t.func, 1, population) for t in tasks]).T\n",
    "\n",
    "matrix_cost_pop(population_init(100, 2), [ackley(2), sphere(2)]).shape"
   ]
  },
  {
   "cell_type": "code",
   "execution_count": 9,
   "metadata": {},
   "outputs": [
    {
     "data": {
      "text/plain": [
       "array([[1, 0],\n",
       "       [0, 2],\n",
       "       [2, 1]])"
      ]
     },
     "execution_count": 9,
     "metadata": {},
     "output_type": "execute_result"
    }
   ],
   "source": [
    "def matrix_rank_pop(cost_pop):\n",
    "    return np.argsort(np.argsort(cost_pop, axis = 0), axis = 0) \n",
    "\n",
    "matrix_rank_pop(np.array([[10, 2], [2, 6], [23, 4]]))"
   ]
  },
  {
   "cell_type": "code",
   "execution_count": 10,
   "metadata": {},
   "outputs": [],
   "source": [
    "def factorial_cost(child, skill_factor, tasks = []):\n",
    "    return np.array([tasks[idx_task].func(child[idx_inds]) for idx_inds, idx_task in enumerate(skill_factor)])\n"
   ]
  },
  {
   "cell_type": "code",
   "execution_count": 11,
   "metadata": {},
   "outputs": [],
   "source": [
    "def factorial_rank(f_cost, skill_factor, num_tasks):\n",
    "    res = np.zeros_like(skill_factor)\n",
    "    for i in range (num_tasks):\n",
    "        inds = np.where(skill_factor == i)\n",
    "        res[inds] = np.argsort(np.argsort(f_cost[inds]))\n",
    "    return res"
   ]
  },
  {
   "cell_type": "code",
   "execution_count": 12,
   "metadata": {},
   "outputs": [
    {
     "data": {
      "text/plain": [
       "(array([0.85171062, 1.95057021, 3.        ]),\n",
       " array([7.14828938, 4.04942979, 3.        ]))"
      ]
     },
     "execution_count": 12,
     "metadata": {},
     "output_type": "execute_result"
    }
   ],
   "source": [
    "def sbx_crossover(pa, pb):\n",
    "    nc = 10\n",
    "    u = np.random.uniform()\n",
    "    if u <= 0.5:\n",
    "        beta = (2*u)**(1/(nc +1))\n",
    "    else:\n",
    "        beta = (1/(2 * (1 - u)))**(1 / (1 + nc))\n",
    "        \n",
    "    c1 = 0.5*((1 + beta) * pa + (1 - beta) * pb)\n",
    "    c2 = 0.5*((1 - beta) * pa + (1 + beta) * pb)\n",
    "    return c1, c2\n",
    "\n",
    "sbx_crossover(np.array([1, 2, 3]), np.array([7, 4, 3]))"
   ]
  },
  {
   "cell_type": "code",
   "execution_count": 13,
   "metadata": {},
   "outputs": [
    {
     "data": {
      "text/plain": [
       "array([1.        , 1.96331821, 2.92663643])"
      ]
     },
     "execution_count": 13,
     "metadata": {},
     "output_type": "execute_result"
    }
   ],
   "source": [
    "def polynomial_mutate(p):\n",
    "    nm = 10\n",
    "    u = np.random.rand()\n",
    "    \n",
    "    if u <= 0.5:\n",
    "        delta_l = (2*u)**(1/(nm + 1)) - 1\n",
    "        return p + delta_l * p\n",
    "    \n",
    "    else: \n",
    "        delta_r = 1 - (2*(1-u))**(1/(nm + 1))\n",
    "        return p + delta_r * (1 - p)\n",
    "\n",
    "polynomial_mutate(np.array([1, 2, 3]))"
   ]
  },
  {
   "cell_type": "code",
   "execution_count": 14,
   "metadata": {},
   "outputs": [],
   "source": [
    "def mefa(num_epochs, num_inds, tasks = [], rmp = 0.1):\n",
    "    max_d = 0\n",
    "    for t in tasks:\n",
    "        if max_d < t.d:\n",
    "            max_d = t.d\n",
    "\n",
    "    # initial population\n",
    "    population = population_init(num_inds, max_d)\n",
    "\n",
    "    # matrix cost and rank\n",
    "    full_cost = matrix_cost_pop(population, tasks)\n",
    "    full_rank = matrix_rank_pop(full_cost)\n",
    "    \n",
    "    #skill factor, factorial cost, factorial rank\n",
    "    skill_factor = np.argmin(full_rank, axis = 1)\n",
    "    f_cost = np.array([full_cost[idx, skill_factor[idx]] for idx in range(num_inds)])\n",
    "\n",
    "    history = np.empty((0, len(tasks)), np.float)\n",
    "\n",
    "    for epoch in range(num_epochs):\n",
    "        child = np.empty((0, population.shape[1]))\n",
    "        child_skill_factor = np.empty((0, 1), int)\n",
    "\n",
    "        while len(child) < num_inds:\n",
    "            [idx_a, idx_b] = np.random.randint(num_inds, size = 2)\n",
    "            [pa, pb], [skf_a, skf_b] = population[[idx_a, idx_b]], skill_factor[[idx_a, idx_b]]\n",
    "\n",
    "            if skf_a == skf_b or np.random.uniform() < rmp :\n",
    "                ca, cb = sbx_crossover(pa, pb)\n",
    "                \n",
    "                child = np.append(child, [ca, cb], axis = 0)\n",
    "                child_skill_factor = np.append(child_skill_factor, [np.random.choice([skf_a, skf_b]) for i in range (2)])\n",
    "            \n",
    "            else:\n",
    "                ca, cb = polynomial_mutate(pa), polynomial_mutate(pb)\n",
    "                \n",
    "                child = np.append(child, [ca, cb], axis = 0)\n",
    "                child_skill_factor = np.append(child_skill_factor, [skf_a, skf_b])\n",
    "        \n",
    "\n",
    "        child_fcost = factorial_cost(child, child_skill_factor, tasks)\n",
    "\n",
    "        #merge population and child\n",
    "        large_pop = np.append(population, child, axis = 0)\n",
    "        large_fcost = np.append(f_cost, child_fcost, axis = 0)\n",
    "        large_skill_factor = np.append(skill_factor, child_skill_factor, axis = 0)\n",
    "\n",
    "        large_scalar_fitness = 1/factorial_rank(large_fcost, large_skill_factor, len(tasks))\n",
    "        \n",
    "        #selected individuals \n",
    "        selected_inds = np.argsort(-large_scalar_fitness)[:num_inds] \n",
    "        \n",
    "        #update population\n",
    "        population = large_pop[selected_inds]\n",
    "        skill_factor = large_skill_factor[selected_inds]\n",
    "        f_cost = large_fcost[selected_inds]\n",
    "\n",
    "        # save history\n",
    "        history = np.append(history, [[np.min(f_cost[np.where(skill_factor == idx)[0]]) for idx in range (len(tasks))]], axis = 0)\n",
    "        \n",
    "        print('Epoch [{}/{}], func_val: {}'\n",
    "            .format(epoch + 1, num_epochs, [np.min(f_cost[np.where(skill_factor == idx)[0]]) for idx in range (len(tasks))])\n",
    "        )\n",
    "        # print('Epoch [{}/{}], func_val: {}'\n",
    "        #     .format(epoch + 1, num_epochs, history[-1])\n",
    "        # )\n",
    "\n",
    "    sol_idx = [np.argmin(f_cost[np.where(skill_factor == idx)]) for idx in range (len(tasks))]\n",
    "    return [population[np.where(skill_factor == idx)][sol_idx[idx]] for idx in range(len(tasks))], history"
   ]
  },
  {
   "cell_type": "code",
   "execution_count": 15,
   "metadata": {},
   "outputs": [
    {
     "name": "stderr",
     "output_type": "stream",
     "text": [
      "/tmp/ipykernel_94225/24019857.py:48: RuntimeWarning: divide by zero encountered in true_divide\n",
      "  large_scalar_fitness = 1/factorial_rank(large_fcost, large_skill_factor, len(tasks))\n"
     ]
    },
    {
     "name": "stdout",
     "output_type": "stream",
     "text": [
      "Epoch [1/200], func_val: [132259.99304817515, 21.490903753051068, 101480348206.88857, 192156373818.7251]\n",
      "Epoch [2/200], func_val: [106276.43307825604, 21.490903753051068, 99820587425.35014, 191005908249.08716]\n",
      "Epoch [3/200], func_val: [76907.34235409705, 21.427493088010614, 45903251829.32701, 112268790499.47078]\n",
      "Epoch [4/200], func_val: [55180.887613148996, 21.427493088010614, 31876225347.628178, 110700912315.59962]\n",
      "Epoch [5/200], func_val: [47782.80659769481, 21.427493088010614, 31876225347.628178, 71191322225.5349]\n",
      "Epoch [6/200], func_val: [47782.80659769481, 21.427493088010614, 16395598946.278698, 58624340812.52842]\n",
      "Epoch [7/200], func_val: [42003.84588286341, 21.427493088010614, 7072348345.332445, 35535951139.34287]\n",
      "Epoch [8/200], func_val: [29063.68082105085, 21.427493088010614, 6096093327.069991, 16543925066.76684]\n",
      "Epoch [9/200], func_val: [23944.6610023275, 21.427493088010614, 3600436346.284339, 4501041267.734071]\n",
      "Epoch [10/200], func_val: [23944.6610023275, 21.427493088010614, 1067964477.2806551, 4124591127.606991]\n",
      "Epoch [11/200], func_val: [20439.115036049512, 21.427493088010614, 799557176.0584383, 3353614511.3436327]\n",
      "Epoch [12/200], func_val: [19024.556035380054, 21.427493088010614, 366054741.1368054, 3077196120.533443]\n",
      "Epoch [13/200], func_val: [19024.556035380054, 21.427493088010614, 366054741.1368054, 1233416257.4981155]\n",
      "Epoch [14/200], func_val: [11388.349878409366, 21.377020526188296, 366054741.1368054, 1107769357.0008922]\n",
      "Epoch [15/200], func_val: [9792.547299603824, 21.377020526188296, 302881090.85968584, 525083733.8088554]\n",
      "Epoch [16/200], func_val: [7227.200423527108, 21.283316251822907, 163637559.13490954, 273448215.19995075]\n",
      "Epoch [17/200], func_val: [6616.687341272065, 21.278224043403487, 52678354.09561004, 179489701.7865697]\n",
      "Epoch [18/200], func_val: [3548.058994752997, 20.625064218305415, 25170423.58554781, 149142963.62947285]\n",
      "Epoch [19/200], func_val: [3548.058994752997, 20.561175404285365, 23466378.664466538, 120665460.53957309]\n",
      "Epoch [20/200], func_val: [2960.3739520463673, 19.411436991344143, 14993709.159319643, 47009473.11737946]\n",
      "Epoch [21/200], func_val: [2960.3739520463673, 19.18739107079162, 14221734.641163234, 47009473.11737946]\n",
      "Epoch [22/200], func_val: [2591.651943353459, 19.10534686077639, 9657793.764809666, 47009473.11737946]\n",
      "Epoch [23/200], func_val: [2064.6370860153775, 16.74278574735345, 5602317.417568627, 27471397.82680195]\n",
      "Epoch [24/200], func_val: [2064.6370860153775, 16.74278574735345, 5602317.417568627, 27471397.82680195]\n",
      "Epoch [25/200], func_val: [724.5143962928837, 16.74278574735345, 3472430.3822375825, 20468161.135769174]\n",
      "Epoch [26/200], func_val: [724.5143962928837, 16.632977647922953, 2880858.8577674087, 10638304.066077834]\n",
      "Epoch [27/200], func_val: [724.5143962928837, 15.723065956597885, 2188654.69627563, 8906113.32431165]\n",
      "Epoch [28/200], func_val: [724.5143962928837, 15.014907080545605, 2188654.69627563, 3481941.955574952]\n",
      "Epoch [29/200], func_val: [724.5143962928837, 14.980073502317127, 1950904.4313171727, 1561337.9901301602]\n",
      "Epoch [30/200], func_val: [535.2521874161869, 13.432151069934067, 994679.7917457379, 1120258.0086305635]\n",
      "Epoch [31/200], func_val: [486.2501356049887, 12.373377506590751, 431306.83497736824, 725295.0976772348]\n",
      "Epoch [32/200], func_val: [486.2501356049887, 12.373377506590751, 431306.83497736824, 489750.9936891158]\n",
      "Epoch [33/200], func_val: [370.4565472326178, 12.373377506590751, 431306.83497736824, 409952.7633513143]\n",
      "Epoch [34/200], func_val: [267.79486234897996, 11.863946252559414, 214395.39813793622, 156985.47733103318]\n",
      "Epoch [35/200], func_val: [164.26677495775547, 10.833979996696296, 214395.39813793622, 75906.00724266337]\n",
      "Epoch [36/200], func_val: [164.26677495775547, 10.492967592334885, 140074.9238577477, 75906.00724266337]\n",
      "Epoch [37/200], func_val: [125.73435846899662, 8.119819744156077, 57753.08180089844, 59170.60686774479]\n",
      "Epoch [38/200], func_val: [120.5196955897791, 8.119819744156077, 29043.27954783198, 40521.822300624175]\n",
      "Epoch [39/200], func_val: [81.27744112440826, 7.488888462113888, 26495.41650485582, 34361.39227291777]\n",
      "Epoch [40/200], func_val: [72.80452532150717, 6.782711935258289, 13705.411260286523, 26144.43941891352]\n",
      "Epoch [41/200], func_val: [72.80452532150717, 6.140038267470992, 13078.35843744505, 12374.755560013895]\n",
      "Epoch [42/200], func_val: [69.80129873953021, 6.127457703913649, 12318.964576040167, 7806.382385143877]\n",
      "Epoch [43/200], func_val: [69.63725392480194, 6.102482988836698, 8069.5106134480975, 7806.382385143877]\n",
      "Epoch [44/200], func_val: [51.213165276095346, 6.08085491078824, 8069.5106134480975, 7806.382385143877]\n",
      "Epoch [45/200], func_val: [51.213165276095346, 5.84360128815991, 4740.495430554783, 3058.1355040464186]\n",
      "Epoch [46/200], func_val: [37.78637370609821, 5.456846102855643, 2829.2489071928926, 2766.037402778424]\n",
      "Epoch [47/200], func_val: [37.12413953220764, 5.368692910420592, 2165.22525972708, 1616.9458182398298]\n",
      "Epoch [48/200], func_val: [26.93728860129509, 5.033851119113823, 1069.995006468474, 1007.7555632941468]\n",
      "Epoch [49/200], func_val: [23.22782313016514, 4.617277856857928, 1069.995006468474, 773.6740701620048]\n",
      "Epoch [50/200], func_val: [13.85664548119182, 4.183788278055246, 579.6999160748196, 773.6740701620048]\n",
      "Epoch [51/200], func_val: [13.85664548119182, 3.875215881484355, 577.6881422412852, 743.9518371772812]\n",
      "Epoch [52/200], func_val: [13.001954048367876, 3.79872872333376, 407.01836832273216, 418.93820687879605]\n",
      "Epoch [53/200], func_val: [12.484339449348527, 3.6892686030440918, 407.01836832273216, 418.93820687879605]\n",
      "Epoch [54/200], func_val: [9.697317829541227, 3.6892686030440918, 377.84726419384975, 388.8863221313651]\n",
      "Epoch [55/200], func_val: [9.697317829541227, 3.5860003058347307, 221.87615066916797, 310.5575995864442]\n",
      "Epoch [56/200], func_val: [8.435516239189306, 3.5819955919057063, 221.87615066916797, 283.3484527774678]\n",
      "Epoch [57/200], func_val: [7.500391710001384, 3.5381139584518775, 172.76038007575852, 283.3484527774678]\n",
      "Epoch [58/200], func_val: [6.874085700401168, 3.524302511477576, 170.63079740614396, 207.32661571993927]\n",
      "Epoch [59/200], func_val: [4.255549771447572, 3.524302511477576, 166.48867766294657, 176.06380820024987]\n",
      "Epoch [60/200], func_val: [4.255549771447572, 3.113763419333442, 126.10016993317203, 176.06380820024987]\n",
      "Epoch [61/200], func_val: [4.255549771447572, 3.113763419333442, 104.51740275759882, 174.31553832325233]\n",
      "Epoch [62/200], func_val: [4.255549771447572, 2.916951671286949, 104.05339040782798, 174.31553832325233]\n",
      "Epoch [63/200], func_val: [3.825799051414668, 2.916951671286949, 85.55612676659445, 153.09776773808022]\n",
      "Epoch [64/200], func_val: [2.8893332423057316, 2.570142524534408, 85.55612676659445, 129.94915845292556]\n",
      "Epoch [65/200], func_val: [2.125942592767561, 2.39628167167178, 85.4249080581312, 120.83959659757824]\n",
      "Epoch [66/200], func_val: [2.125942592767561, 2.2096425668918696, 58.493801198656854, 120.83959659757824]\n",
      "Epoch [67/200], func_val: [1.8046341289732621, 2.1590173063664477, 55.129691978210985, 120.83959659757824]\n",
      "Epoch [68/200], func_val: [1.8046341289732621, 2.1590173063664477, 55.129691978210985, 120.83776075171]\n",
      "Epoch [69/200], func_val: [0.9715927048206016, 1.887191936384394, 54.085194970091884, 112.83250157819553]\n",
      "Epoch [70/200], func_val: [0.8660412948176945, 1.854551112906503, 46.0302301343105, 77.29033014121322]\n",
      "Epoch [71/200], func_val: [0.8551799917841635, 1.4666551301459454, 46.0302301343105, 77.29033014121322]\n",
      "Epoch [72/200], func_val: [0.6123461590709989, 1.209789828458661, 46.0302301343105, 74.30294995922362]\n",
      "Epoch [73/200], func_val: [0.6080187921098378, 1.209789828458661, 39.13495642473288, 74.30294995922362]\n",
      "Epoch [74/200], func_val: [0.5380660712253286, 1.209789828458661, 39.13495642473288, 65.52222394475243]\n",
      "Epoch [75/200], func_val: [0.5380660712253286, 1.125579067548625, 39.13495642473288, 57.43093568446882]\n",
      "Epoch [76/200], func_val: [0.5380660712253286, 1.125579067548625, 39.13495642473288, 57.43093568446882]\n",
      "Epoch [77/200], func_val: [0.4676315776633621, 0.9269906191543673, 38.46475763091294, 57.43093568446882]\n",
      "Epoch [78/200], func_val: [0.31040739113950866, 0.9269906191543673, 30.28500698789574, 47.3662456367649]\n",
      "Epoch [79/200], func_val: [0.26789442283253817, 0.9269906191543673, 30.106300566094227, 47.3662456367649]\n",
      "Epoch [80/200], func_val: [0.16615393425051683, 0.8243276251386615, 28.982075314581003, 46.77334541345397]\n",
      "Epoch [81/200], func_val: [0.1644599102400081, 0.8095315993585435, 26.05955579091921, 45.04040739218934]\n",
      "Epoch [82/200], func_val: [0.1605560780564247, 0.6036650303620132, 25.632986961109424, 40.11089356562104]\n",
      "Epoch [83/200], func_val: [0.13182903774786361, 0.5624715946116905, 25.440029895474446, 39.01735665298208]\n",
      "Epoch [84/200], func_val: [0.0893188590787628, 0.4329536168586334, 24.54732681097466, 35.86092275550959]\n",
      "Epoch [85/200], func_val: [0.0675360223915499, 0.40949153393713944, 23.082934738090238, 34.72607841208078]\n",
      "Epoch [86/200], func_val: [0.06616976965621947, 0.40949153393713944, 22.997065504021286, 33.149090493396706]\n",
      "Epoch [87/200], func_val: [0.0558233748324662, 0.3040241183576424, 22.075858770381227, 33.11472201598885]\n",
      "Epoch [88/200], func_val: [0.0558233748324662, 0.28222682470443816, 21.342871852039046, 32.765909773407444]\n",
      "Epoch [89/200], func_val: [0.04980127876232752, 0.28222682470443816, 21.342871852039046, 31.810506716929687]\n",
      "Epoch [90/200], func_val: [0.03667304397110552, 0.27776725592495, 20.351859636588816, 31.810506716929687]\n",
      "Epoch [91/200], func_val: [0.03223051722122586, 0.23842611844651573, 20.090585215673222, 31.810506716929687]\n",
      "Epoch [92/200], func_val: [0.02904736807028978, 0.18081563809122914, 19.977512599819256, 31.810506716929687]\n",
      "Epoch [93/200], func_val: [0.028780710980289323, 0.18028844254512366, 19.770068174404663, 31.65710771630119]\n",
      "Epoch [94/200], func_val: [0.019544724253623795, 0.18028844254512366, 19.578814824056835, 30.177635019535266]\n",
      "Epoch [95/200], func_val: [0.019544724253623795, 0.13348092924123778, 19.29565089304643, 29.71511111754431]\n",
      "Epoch [96/200], func_val: [0.019177213730634805, 0.1276297043429584, 19.29565089304643, 29.71511111754431]\n",
      "Epoch [97/200], func_val: [0.018995990659036212, 0.1273013396096485, 19.290057936379075, 29.712611318366687]\n",
      "Epoch [98/200], func_val: [0.014219240245999546, 0.11218215050293212, 19.227779787521694, 29.318747358369723]\n",
      "Epoch [99/200], func_val: [0.014219240245999546, 0.11203837126491623, 19.227779787521694, 29.318747358369723]\n",
      "Epoch [100/200], func_val: [0.009872879554340946, 0.09220363940495391, 19.20166373815875, 29.25918521405442]\n",
      "Epoch [101/200], func_val: [0.009201264313377885, 0.09215323680201282, 19.069227432492028, 29.118981668338677]\n",
      "Epoch [102/200], func_val: [0.009201264313377885, 0.08170983471506732, 19.069227432492028, 28.98129564277475]\n",
      "Epoch [103/200], func_val: [0.0052313349070406585, 0.07113676752197451, 19.05365768314536, 28.98129564277475]\n",
      "Epoch [104/200], func_val: [0.0052313349070406585, 0.0537702393033439, 18.965429480683166, 28.961533933239313]\n",
      "Epoch [105/200], func_val: [0.004769055478412019, 0.0532446188785447, 18.936458427225194, 28.932138544116544]\n",
      "Epoch [106/200], func_val: [0.004769055478412019, 0.05173143924163215, 18.924186759057342, 28.88041946224632]\n",
      "Epoch [107/200], func_val: [0.003649091296658716, 0.051687637821040244, 18.924186759057342, 28.85616613405978]\n",
      "Epoch [108/200], func_val: [0.0035864900096507038, 0.037305325737648776, 18.91569498325835, 28.854883893679876]\n",
      "Epoch [109/200], func_val: [0.0029890497595074865, 0.037305325737648776, 18.85372060054959, 28.78079070123338]\n",
      "Epoch [110/200], func_val: [0.0021803039301163942, 0.029200635842738354, 18.840977501844982, 28.765008415258748]\n",
      "Epoch [111/200], func_val: [0.0021803039301163942, 0.029200635842738354, 18.840977501844982, 28.743969787910235]\n",
      "Epoch [112/200], func_val: [0.0018394088908275576, 0.028428397826183005, 18.840977501844982, 28.732482105962685]\n",
      "Epoch [113/200], func_val: [0.0018394088908275576, 0.0272795672357522, 18.835625840615226, 28.732482105962685]\n",
      "Epoch [114/200], func_val: [0.001355808209219444, 0.0272795672357522, 18.835625840615226, 28.731084324725987]\n",
      "Epoch [115/200], func_val: [0.001355808209219444, 0.026334524949146232, 18.830852031703113, 28.728592998488242]\n",
      "Epoch [116/200], func_val: [0.001355808209219444, 0.026334524949146232, 18.830852031703113, 28.728592998488242]\n",
      "Epoch [117/200], func_val: [0.000772234306051277, 0.01810601557239666, 18.82953873007304, 28.728592998488242]\n",
      "Epoch [118/200], func_val: [0.000772234306051277, 0.01810601557239666, 18.82953873007304, 28.72789204523977]\n",
      "Epoch [119/200], func_val: [0.0006985378345038815, 0.017496292936084235, 18.82953873007304, 28.72616950710864]\n",
      "Epoch [120/200], func_val: [0.0006985378345038815, 0.016392067351894912, 18.82765352723493, 28.72616950710864]\n",
      "Epoch [121/200], func_val: [0.0004903858993269381, 0.016392067351894912, 18.82765352723493, 28.72616950710864]\n",
      "Epoch [122/200], func_val: [0.0004903858993269381, 0.01586777109189841, 18.82765352723493, 28.721907308628577]\n",
      "Epoch [123/200], func_val: [0.0004903858993269381, 0.01586777109189841, 18.82764107076307, 28.71902977642413]\n",
      "Epoch [124/200], func_val: [0.00025751638821074643, 0.014471144598030339, 18.82757050564316, 28.71902977642413]\n",
      "Epoch [125/200], func_val: [0.00025751638821074643, 0.014438511757820738, 18.826999150867564, 28.71902977642413]\n",
      "Epoch [126/200], func_val: [0.00025751638821074643, 0.014324481755747076, 18.826808080840713, 28.71902977642413]\n",
      "Epoch [127/200], func_val: [0.0002092392071558252, 0.01146860855446663, 18.826160838197527, 28.718439845997896]\n",
      "Epoch [128/200], func_val: [0.00015516949540454443, 0.01105060845835526, 18.82411813914834, 28.718439845997896]\n",
      "Epoch [129/200], func_val: [0.00015516949540454443, 0.010768364220052451, 18.824056442511115, 28.71697366833904]\n",
      "Epoch [130/200], func_val: [7.727813245968205e-05, 0.010685310291681294, 18.823956247538607, 28.716929263863236]\n",
      "Epoch [131/200], func_val: [7.727813245968205e-05, 0.009070796793338776, 18.821941106543672, 28.716929263863236]\n",
      "Epoch [132/200], func_val: [7.727813245968205e-05, 0.008060917140142454, 18.821196668420523, 28.716929263863236]\n",
      "Epoch [133/200], func_val: [7.727813245968205e-05, 0.0077228272457472436, 18.820641199475617, 28.716929263863236]\n",
      "Epoch [134/200], func_val: [7.727813245968205e-05, 0.004360054097976462, 18.820192156364183, 28.716929263863236]\n",
      "Epoch [135/200], func_val: [6.589784521060402e-05, 0.004360054097976462, 18.820192156364183, 28.716162652299502]\n",
      "Epoch [136/200], func_val: [3.792945892009894e-05, 0.00406671733570052, 18.820192156364183, 28.71610748863761]\n",
      "Epoch [137/200], func_val: [3.792945892009894e-05, 0.00406671733570052, 18.82014439519813, 28.71605924649187]\n",
      "Epoch [138/200], func_val: [3.067103109296611e-05, 0.00406671733570052, 18.819767575123553, 28.715933584924215]\n",
      "Epoch [139/200], func_val: [2.8381953419945896e-05, 0.00406671733570052, 18.819767575123553, 28.715933584924215]\n",
      "Epoch [140/200], func_val: [2.4375794430059107e-05, 0.00406671733570052, 18.819767575123553, 28.715933584924215]\n",
      "Epoch [141/200], func_val: [2.4375794430059107e-05, 0.003308324611808633, 18.819767575123553, 28.715919395332463]\n",
      "Epoch [142/200], func_val: [1.9175465726641838e-05, 0.002747684990716426, 18.819563427568934, 28.715790975595784]\n",
      "Epoch [143/200], func_val: [1.818788117822571e-05, 0.002747684990716426, 18.819563427568934, 28.715790975595784]\n",
      "Epoch [144/200], func_val: [1.0474330088510733e-05, 0.002747684990716426, 18.81948108132657, 28.715784097054986]\n",
      "Epoch [145/200], func_val: [1.0474330088510733e-05, 0.002747684990716426, 18.81948108132657, 28.715735811339496]\n",
      "Epoch [146/200], func_val: [1.0474330088510733e-05, 0.00263751264281753, 18.81948108132657, 28.715735811339496]\n",
      "Epoch [147/200], func_val: [7.309651687565722e-06, 0.0025676244527557124, 18.81948108132657, 28.715578289625252]\n",
      "Epoch [148/200], func_val: [5.373257941911256e-06, 0.0022196898530997267, 18.81943853868134, 28.715469529887113]\n",
      "Epoch [149/200], func_val: [5.373257941911256e-06, 0.0018108298424377445, 18.81943853868134, 28.715469529887113]\n",
      "Epoch [150/200], func_val: [5.104555561617031e-06, 0.0012203635831800064, 18.819388241524607, 28.715469529887113]\n",
      "Epoch [151/200], func_val: [5.104555561617031e-06, 0.0012203635831800064, 18.819388241524607, 28.715469529887113]\n",
      "Epoch [152/200], func_val: [4.966869384775217e-06, 0.0012203635831800064, 18.819388241524607, 28.715469529887113]\n",
      "Epoch [153/200], func_val: [3.957701940698996e-06, 0.0012203635831800064, 18.819379117278284, 28.715469529887113]\n",
      "Epoch [154/200], func_val: [3.283659007454261e-06, 0.0007863965445946697, 18.819379117278284, 28.715367012521916]\n",
      "Epoch [155/200], func_val: [3.283659007454261e-06, 0.0007665117944601896, 18.81838992596967, 28.715367012521916]\n",
      "Epoch [156/200], func_val: [2.811288426931807e-06, 0.0006734231751903685, 18.81838992596967, 28.715367012521916]\n",
      "Epoch [157/200], func_val: [1.7289727739302894e-06, 0.000671251146912244, 18.81838992596967, 28.715363523910103]\n",
      "Epoch [158/200], func_val: [1.6598963891607058e-06, 0.0006492154597279587, 18.81838992596967, 28.7152768749733]\n",
      "Epoch [159/200], func_val: [9.479589621775942e-07, 0.0006387614054799151, 18.81838992596967, 28.715200865161293]\n",
      "Epoch [160/200], func_val: [9.380405910775521e-07, 0.00047594235206860347, 18.817763956589978, 28.715200865161293]\n",
      "Epoch [161/200], func_val: [5.433105808615119e-07, 0.00047198411315152455, 18.817763956589978, 28.715200865161293]\n",
      "Epoch [162/200], func_val: [5.433105808615119e-07, 0.00047198411315152455, 18.817763956589978, 28.71519764168773]\n",
      "Epoch [163/200], func_val: [4.1306010592993903e-07, 0.0004129975172877387, 18.817763956589978, 28.71515601542496]\n",
      "Epoch [164/200], func_val: [4.1306010592993903e-07, 0.0004091303673985358, 18.817763956589978, 28.713681770192135]\n",
      "Epoch [165/200], func_val: [3.4214876162599116e-07, 0.0003958024543107008, 18.81772779165708, 28.713681770192135]\n",
      "Epoch [166/200], func_val: [3.4214876162599116e-07, 0.00039466067722715437, 18.81772779165708, 28.713681770192135]\n",
      "Epoch [167/200], func_val: [3.240089278603349e-07, 0.00036188087523614243, 18.817725687710954, 28.71367833179738]\n",
      "Epoch [168/200], func_val: [2.6667350221733435e-07, 0.0003595561314537754, 18.81769423004598, 28.713653383521756]\n",
      "Epoch [169/200], func_val: [1.7556326541446302e-07, 0.0003171707106806032, 18.81765537108916, 28.713604034491123]\n",
      "Epoch [170/200], func_val: [1.7556326541446302e-07, 0.0003060746539103043, 18.81765537108916, 28.713538684849198]\n",
      "Epoch [171/200], func_val: [1.6240517406702373e-07, 0.00029234050473236906, 18.81761086263741, 28.71347678367297]\n",
      "Epoch [172/200], func_val: [1.5307956564216257e-07, 0.00029234050473236906, 18.816901465405053, 28.71347678367297]\n",
      "Epoch [173/200], func_val: [1.2512840329281602e-07, 0.0002635459064674883, 18.816901465405053, 28.71347678367297]\n",
      "Epoch [174/200], func_val: [1.2512840329281602e-07, 0.0002590235211710201, 18.816901465405053, 28.71347678367297]\n",
      "Epoch [175/200], func_val: [1.2512840329281602e-07, 0.00024298318804882868, 18.81688624364286, 28.71347678367297]\n",
      "Epoch [176/200], func_val: [7.627115212177264e-08, 0.00022361157167738455, 18.816884905536433, 28.71347678367297]\n",
      "Epoch [177/200], func_val: [7.627115212177264e-08, 0.00022361157167738455, 18.816667722580856, 28.7133468093912]\n",
      "Epoch [178/200], func_val: [6.742008050701345e-08, 0.00021243065723952625, 18.816663739174093, 28.712773432884493]\n",
      "Epoch [179/200], func_val: [3.300304919580337e-08, 0.00018569954965075297, 18.816657558821127, 28.712773432884493]\n",
      "Epoch [180/200], func_val: [3.300304919580337e-08, 0.00018569954965075297, 18.816657558821127, 28.712773432884493]\n",
      "Epoch [181/200], func_val: [3.2468433557392287e-08, 0.0001532696355224239, 18.81665366911376, 28.712517879165244]\n",
      "Epoch [182/200], func_val: [3.015625885427614e-08, 0.0001526469462977964, 18.81665366911376, 28.71243942926343]\n",
      "Epoch [183/200], func_val: [2.4811956902617248e-08, 0.00012568083317932022, 18.816648139461428, 28.71243044741457]\n",
      "Epoch [184/200], func_val: [1.9045609891955444e-08, 0.00012565819498222552, 18.816648139461428, 28.712421237534304]\n",
      "Epoch [185/200], func_val: [1.9045609891955444e-08, 8.985359243895985e-05, 18.8166469563239, 28.71115523462111]\n",
      "Epoch [186/200], func_val: [1.4551667418684508e-08, 8.675711896843907e-05, 18.816538748892846, 28.71115523462111]\n",
      "Epoch [187/200], func_val: [1.4551667418684508e-08, 8.675711896843907e-05, 18.816538748892846, 28.71115523462111]\n",
      "Epoch [188/200], func_val: [1.4510880362154121e-08, 8.109695229707725e-05, 18.816535079308476, 28.71115523462111]\n",
      "Epoch [189/200], func_val: [1.1614079226835757e-08, 6.695730163785996e-05, 18.816535079308476, 28.71115523462111]\n",
      "Epoch [190/200], func_val: [1.0405624269184389e-08, 6.695730163785996e-05, 18.816535079308476, 28.71115523462111]\n",
      "Epoch [191/200], func_val: [1.0405624269184389e-08, 5.7416356888939646e-05, 18.816535079308476, 28.71115523462111]\n",
      "Epoch [192/200], func_val: [8.450846682339585e-09, 5.7416356888939646e-05, 18.815439016695404, 28.71115523462111]\n",
      "Epoch [193/200], func_val: [8.445447978858603e-09, 5.7416356888939646e-05, 18.815439016695404, 28.71115523462111]\n",
      "Epoch [194/200], func_val: [4.281213851132407e-09, 5.734684465297235e-05, 18.815439016695404, 28.71115523462111]\n",
      "Epoch [195/200], func_val: [4.281213851132407e-09, 5.658643987205281e-05, 18.815439016695404, 28.71115523462111]\n",
      "Epoch [196/200], func_val: [4.281213851132407e-09, 5.562884687337899e-05, 18.815439016695404, 28.71115523462111]\n",
      "Epoch [197/200], func_val: [3.5459490663844245e-09, 4.7577368697648836e-05, 18.815439016695404, 28.71113361318905]\n",
      "Epoch [198/200], func_val: [3.528041923854704e-09, 3.789124860675841e-05, 18.815439016695404, 28.71113361318905]\n",
      "Epoch [199/200], func_val: [2.446748006080785e-09, 3.770318819507068e-05, 18.815439016695404, 28.71113361318905]\n",
      "Epoch [200/200], func_val: [2.446748006080785e-09, 3.500605152639835e-05, 18.815439016695404, 28.71112200722894]\n"
     ]
    }
   ],
   "source": [
    "tasks = [sphere(30), ackley(50), rosenbrock(20), rosenbrock(30)]\n",
    "sol, his = mefa(num_epochs= 200, num_inds= 100, tasks= tasks, rmp= 0.5)"
   ]
  },
  {
   "cell_type": "code",
   "execution_count": 16,
   "metadata": {},
   "outputs": [
    {
     "data": {
      "text/plain": [
       "(50,)"
      ]
     },
     "execution_count": 16,
     "metadata": {},
     "output_type": "execute_result"
    }
   ],
   "source": [
    "sol[0].shape"
   ]
  },
  {
   "cell_type": "code",
   "execution_count": 17,
   "metadata": {},
   "outputs": [
    {
     "data": {
      "image/png": "[encoded data removed]",
      "text/plain": [
       "<Figure size 432x288 with 1 Axes>"
      ]
     },
     "metadata": {
      "needs_background": "light"
     },
     "output_type": "display_data"
    },
    {
     "data": {
      "image/png": "[encoded data removed]",
      "text/plain": [
       "<Figure size 432x288 with 1 Axes>"
      ]
     },
     "metadata": {
      "needs_background": "light"
     },
     "output_type": "display_data"
    },
    {
     "data": {
      "image/png": "[encoded data removed]",
      "text/plain": [
       "<Figure size 432x288 with 1 Axes>"
      ]
     },
     "metadata": {
      "needs_background": "light"
     },
     "output_type": "display_data"
    },
    {
     "data": {
      "image/png": "[encoded data removed]",
      "text/plain": [
       "<Figure size 432x288 with 1 Axes>"
      ]
     },
     "metadata": {
      "needs_background": "light"
     },
     "output_type": "display_data"
    }
   ],
   "source": [
    "import matplotlib.pyplot as plt\n",
    "\n",
    "for i in range (his.shape[1]):\n",
    "    plt.plot(np.arange(len(his)), his[:, i], \"blue\")\n",
    "    \n",
    "    plt.title(tasks[i].__class__.__name__)\n",
    "    plt.xlabel(\"Epoch\")\n",
    "    plt.ylabel(\"func_val\")\n",
    "    plt.show()"
   ]
  }
 ],
 "metadata": {
  "interpreter": {
   "hash": "916dbcbb3f70747c44a77c7bcd40155683ae19c65e1c03b4aa3499c5328201f1"
  },
  "kernelspec": {
   "display_name": "Python 3.9.5 64-bit",
   "name": "python3"
  },
  "language_info": {
   "codemirror_mode": {
    "name": "ipython",
    "version": 3
   },
   "file_extension": ".py",
   "mimetype": "text/x-python",
   "name": "python",
   "nbconvert_exporter": "python",
   "pygments_lexer": "ipython3",
   "version": "3.9.5"
  },
  "orig_nbformat": 4
 },
 "nbformat": 4,
 "nbformat_minor": 2
}
