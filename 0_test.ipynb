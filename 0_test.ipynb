{
 "cells": [
  {
   "cell_type": "code",
   "execution_count": 1,
   "metadata": {},
   "outputs": [],
   "source": [
    "import numpy as np"
   ]
  },
  {
   "cell_type": "markdown",
   "metadata": {},
   "source": [
    "#### Benchmark, function\n"
   ]
  },
  {
   "cell_type": "code",
   "execution_count": 2,
   "metadata": {},
   "outputs": [],
   "source": [
    "from MFEA_lib.tasks.Benchmark import CEC17_benchmark\n",
    "from MFEA_lib.tasks.Benchmark import GECCO20_benchmark_50tasks"
   ]
  },
  {
   "cell_type": "code",
   "execution_count": 3,
   "metadata": {},
   "outputs": [],
   "source": [
    "gecco1 = GECCO20_benchmark_50tasks.get_items(ID = 10)"
   ]
  },
  {
   "cell_type": "code",
   "execution_count": 4,
   "metadata": {},
   "outputs": [
    {
     "name": "stdout",
     "output_type": "stream",
     "text": [
      "Ackley: [-50, 50]^50\n",
      "Rastrigin: [-50, 50]^50\n",
      "Griewank: [-100, 100]^50\n",
      "Rosenbrock: [-0.5, 0.5]^50\n",
      "Rosenbrock: [-500, 500]^50\n",
      "Ackley: [-50, 50]^50\n",
      "Rastrigin: [-50, 50]^50\n",
      "Griewank: [-100, 100]^50\n",
      "Rosenbrock: [-0.5, 0.5]^50\n",
      "Rosenbrock: [-500, 500]^50\n",
      "Ackley: [-50, 50]^50\n",
      "Rastrigin: [-50, 50]^50\n",
      "Griewank: [-100, 100]^50\n",
      "Rosenbrock: [-0.5, 0.5]^50\n",
      "Rosenbrock: [-500, 500]^50\n",
      "Ackley: [-50, 50]^50\n",
      "Rastrigin: [-50, 50]^50\n",
      "Griewank: [-100, 100]^50\n",
      "Rosenbrock: [-0.5, 0.5]^50\n",
      "Rosenbrock: [-500, 500]^50\n",
      "Ackley: [-50, 50]^50\n",
      "Rastrigin: [-50, 50]^50\n",
      "Griewank: [-100, 100]^50\n",
      "Rosenbrock: [-0.5, 0.5]^50\n",
      "Rosenbrock: [-500, 500]^50\n",
      "Ackley: [-50, 50]^50\n",
      "Rastrigin: [-50, 50]^50\n",
      "Griewank: [-100, 100]^50\n",
      "Rosenbrock: [-0.5, 0.5]^50\n",
      "Rosenbrock: [-500, 500]^50\n",
      "Ackley: [-50, 50]^50\n",
      "Rastrigin: [-50, 50]^50\n",
      "Griewank: [-100, 100]^50\n",
      "Rosenbrock: [-0.5, 0.5]^50\n",
      "Rosenbrock: [-500, 500]^50\n",
      "Ackley: [-50, 50]^50\n",
      "Rastrigin: [-50, 50]^50\n",
      "Griewank: [-100, 100]^50\n",
      "Rosenbrock: [-0.5, 0.5]^50\n",
      "Rosenbrock: [-500, 500]^50\n",
      "Ackley: [-50, 50]^50\n",
      "Rastrigin: [-50, 50]^50\n",
      "Griewank: [-100, 100]^50\n",
      "Rosenbrock: [-0.5, 0.5]^50\n",
      "Rosenbrock: [-500, 500]^50\n",
      "Ackley: [-50, 50]^50\n",
      "Rastrigin: [-50, 50]^50\n",
      "Griewank: [-100, 100]^50\n",
      "Rosenbrock: [-0.5, 0.5]^50\n",
      "Rosenbrock: [-500, 500]^50\n"
     ]
    },
    {
     "data": {
      "text/plain": [
       "50"
      ]
     },
     "execution_count": 4,
     "metadata": {},
     "output_type": "execute_result"
    }
   ],
   "source": [
    "for t in gecco1:\n",
    "    print(t.name)\n",
    "len(gecco1)"
   ]
  },
  {
   "cell_type": "code",
   "execution_count": 5,
   "metadata": {},
   "outputs": [],
   "source": [
    "tasks = CEC17_benchmark.get_10tasks_benchmark()"
   ]
  },
  {
   "cell_type": "code",
   "execution_count": 6,
   "metadata": {},
   "outputs": [
    {
     "name": "stdout",
     "output_type": "stream",
     "text": [
      "Sphere: [-100, 100]^50\n",
      "Sphere: [-100, 100]^50\n",
      "Sphere: [-100, 100]^50\n",
      "Weierstrass: [-0.5, 0.5]^25\n",
      "Rosenbrock: [-50, 50]^50\n",
      "Ackley: [-50, 50]^50\n",
      "Weierstrass: [-0.5, 0.5]^50\n",
      "Schwefel: [-500, 500]^50\n",
      "Griewank: [-100, 100]^50\n",
      "Rastrigin: [-50, 50]^50\n"
     ]
    }
   ],
   "source": [
    "for t in tasks:\n",
    "    print(t.name)"
   ]
  },
  {
   "cell_type": "code",
   "execution_count": 7,
   "metadata": {},
   "outputs": [
    {
     "name": "stdout",
     "output_type": "stream",
     "text": [
      "[0 0]\n",
      "[80 80]\n",
      "[-80 -80]\n",
      "[-0.4 -0.4]\n",
      "[-1 -1]\n",
      "[40 40]\n",
      "[-0.4 -0.4]\n",
      "[0 0]\n",
      "[-80  80]\n",
      "[ 40 -40]\n"
     ]
    }
   ],
   "source": [
    "for t in tasks:\n",
    "    print(t.global_optimal[[0, -1]])"
   ]
  },
  {
   "cell_type": "code",
   "execution_count": 9,
   "metadata": {},
   "outputs": [
    {
     "data": {
      "text/plain": [
       "array([0.9, 0.9, 0.9, 0.9, 0.9, 0.9, 0.9, 0.9, 0.9, 0.9, 0.9, 0.9, 0.9,\n",
       "       0.9, 0.9, 0.9, 0.9, 0.9, 0.9, 0.9, 0.9, 0.9, 0.9, 0.9, 0.9, 0.1,\n",
       "       0.1, 0.1, 0.1, 0.1, 0.1, 0.1, 0.1, 0.1, 0.1, 0.1, 0.1, 0.1, 0.1,\n",
       "       0.1, 0.1, 0.1, 0.1, 0.1, 0.1, 0.1, 0.1, 0.1, 0.1, 0.1])"
      ]
     },
     "execution_count": 9,
     "metadata": {},
     "output_type": "execute_result"
    }
   ],
   "source": [
    "tasks[9].encode(np.append(np.array([0] * 25), np.array([0] * 25)))"
   ]
  },
  {
   "cell_type": "code",
   "execution_count": 8,
   "metadata": {},
   "outputs": [
    {
     "name": "stdout",
     "output_type": "stream",
     "text": [
      "0.0\n",
      "0.0\n",
      "0.0\n",
      "0.0\n",
      "0.0\n",
      "4.440892098500626e-16\n",
      "0.0\n",
      "0.0006363918728311546\n",
      "0.0\n",
      "0.0\n"
     ]
    }
   ],
   "source": [
    "print(tasks[0].func(tasks[0].encode(np.array([0] * 50))))\n",
    "print(tasks[1].func(tasks[1].encode(np.array([0] * 50))))\n",
    "print(tasks[2].func(tasks[2].encode(np.array([0] * 50))))\n",
    "print(tasks[3].func(tasks[3].encode(np.array([0] * 25))))\n",
    "print(tasks[4].func(tasks[4].encode(np.array([1] * 50))))\n",
    "print(tasks[5].func(tasks[5].encode(np.array([0] * 50))))\n",
    "print(tasks[6].func(tasks[6].encode(np.array([0] * 50))))\n",
    "print(tasks[7].func(tasks[7].encode(np.array([420.9687] * 50))))\n",
    "print(tasks[8].func(tasks[8].encode(np.append(np.array([0] * 25), np.array([0] * 25)))))\n",
    "print(tasks[9].func(tasks[9].encode(np.append(np.array([0] * 25), np.array([0] * 25)))))\n"
   ]
  },
  {
   "cell_type": "code",
   "execution_count": 9,
   "metadata": {},
   "outputs": [
    {
     "data": {
      "text/plain": [
       "array([0.9209687, 0.9209687])"
      ]
     },
     "execution_count": 9,
     "metadata": {},
     "output_type": "execute_result"
    }
   ],
   "source": [
    "tasks[7].encode(np.array([420.9687] * 50))[[0, -1]]"
   ]
  },
  {
   "cell_type": "code",
   "execution_count": 10,
   "metadata": {},
   "outputs": [
    {
     "data": {
      "text/plain": [
       "array([420.9687, 420.9687])"
      ]
     },
     "execution_count": 10,
     "metadata": {},
     "output_type": "execute_result"
    }
   ],
   "source": [
    "tasks[7].decode(tasks[7].encode(np.array([420.9687] * 50)))[[0, -1]]"
   ]
  },
  {
   "cell_type": "code",
   "execution_count": 11,
   "metadata": {},
   "outputs": [
    {
     "name": "stdout",
     "output_type": "stream",
     "text": [
      "[0.5 0.5]\n",
      "[0.9 0.9]\n",
      "[0.1 0.1]\n",
      "[0.1 0.1]\n",
      "[0.5 0.5]\n",
      "[0.9 0.9]\n",
      "[0.1 0.1]\n",
      "[0.9209687 0.9209687]\n",
      "[0.1 0.9]\n",
      "[0.9 0.1]\n"
     ]
    }
   ],
   "source": [
    "print(tasks[0].encode(np.array([0] * 50))[[0, -1]])\n",
    "print(tasks[1].encode(np.array([0] * 50))[[0, -1]])\n",
    "print(tasks[2].encode(np.array([0] * 50))[[0, -1]])\n",
    "print(tasks[3].encode(np.array([0] * 25))[[0, -1]])\n",
    "print(tasks[4].encode(np.array([1] * 50))[[0, -1]])\n",
    "print(tasks[5].encode(np.array([0] * 50))[[0, -1]])\n",
    "print(tasks[6].encode(np.array([0] * 50))[[0, -1]])\n",
    "print(tasks[7].encode(np.array([420.9687] * 50))[[0, -1]])\n",
    "print(tasks[8].encode(np.array([0] * 50))[[0, -1]])\n",
    "print(tasks[9].encode(np.array([0] * 50))[[0, -1]])"
   ]
  },
  {
   "cell_type": "markdown",
   "metadata": {},
   "source": [
    "#### GA"
   ]
  },
  {
   "cell_type": "code",
   "execution_count": 12,
   "metadata": {},
   "outputs": [],
   "source": [
    "import numpy as np\n",
    "from MFEA_lib.GA import population_init, skill_factor_best_task, factorial_cost, factorial_rank\n"
   ]
  },
  {
   "cell_type": "code",
   "execution_count": 13,
   "metadata": {},
   "outputs": [
    {
     "name": "stdout",
     "output_type": "stream",
     "text": [
      "(100, 50)\n",
      "[10, 10, 10, 10, 10]\n",
      "0.00037189514437729887 0.9999587719175425\n"
     ]
    }
   ],
   "source": [
    "test_pop, test_skf_arr = population_init(\n",
    "    N = 10, \n",
    "    num_tasks= 10, \n",
    "    d = 50, \n",
    "    min_val= 0, max_val= 1\n",
    ")\n",
    "print(test_pop.shape)\n",
    "print([len(np.where(test_skf_arr == i)[0]) for i in range(5)])\n",
    "print(np.min(test_pop), np.max(test_pop))"
   ]
  },
  {
   "cell_type": "code",
   "execution_count": 14,
   "metadata": {},
   "outputs": [
    {
     "name": "stdout",
     "output_type": "stream",
     "text": [
      "[10, 10, 10, 10, 10]\n"
     ]
    }
   ],
   "source": [
    "test_skf_arr = skill_factor_best_task(test_pop, tasks)\n",
    "print([len(np.where(test_skf_arr == i)[0]) for i in range(5)])"
   ]
  },
  {
   "cell_type": "code",
   "execution_count": 15,
   "metadata": {},
   "outputs": [
    {
     "name": "stdout",
     "output_type": "stream",
     "text": [
      "(100,)\n"
     ]
    }
   ],
   "source": [
    "f_cost = factorial_cost(test_pop, test_skf_arr, tasks)\n",
    "print(f_cost.shape)"
   ]
  },
  {
   "cell_type": "code",
   "execution_count": 16,
   "metadata": {},
   "outputs": [
    {
     "name": "stdout",
     "output_type": "stream",
     "text": [
      "(100,)\n",
      "1 10\n"
     ]
    }
   ],
   "source": [
    "f_rank = factorial_rank(f_cost, test_skf_arr, len(tasks))\n",
    "print(f_rank.shape)\n",
    "print(np.min(f_rank), np.max(f_rank))"
   ]
  },
  {
   "cell_type": "markdown",
   "metadata": {},
   "source": [
    "#### operators"
   ]
  },
  {
   "cell_type": "code",
   "execution_count": null,
   "metadata": {},
   "outputs": [],
   "source": []
  }
 ],
 "metadata": {
  "interpreter": {
   "hash": "f9f85f796d01129d0dd105a088854619f454435301f6ffec2fea96ecbd9be4ac"
  },
  "kernelspec": {
   "display_name": "Python 3.9.5 64-bit",
   "language": "python",
   "name": "python3"
  },
  "language_info": {
   "codemirror_mode": {
    "name": "ipython",
    "version": 3
   },
   "file_extension": ".py",
   "mimetype": "text/x-python",
   "name": "python",
   "nbconvert_exporter": "python",
   "pygments_lexer": "ipython3",
   "version": "3.9.5"
  },
  "orig_nbformat": 4
 },
 "nbformat": 4,
 "nbformat_minor": 2
}
