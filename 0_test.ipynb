{
 "cells": [
  {
   "cell_type": "code",
   "execution_count": 1,
   "metadata": {},
   "outputs": [],
   "source": [
    "import numpy as np"
   ]
  },
  {
   "cell_type": "markdown",
   "metadata": {},
   "source": [
    "#### Benchmark\n"
   ]
  },
  {
   "cell_type": "code",
   "execution_count": 2,
   "metadata": {},
   "outputs": [],
   "source": [
    "from MFEA_lib.Benchmark import CEC17_benchmark"
   ]
  },
  {
   "cell_type": "code",
   "execution_count": 3,
   "metadata": {},
   "outputs": [],
   "source": [
    "tasks = CEC17_benchmark.get_10tasks_benchmark()"
   ]
  },
  {
   "cell_type": "code",
   "execution_count": 4,
   "metadata": {},
   "outputs": [
    {
     "name": "stdout",
     "output_type": "stream",
     "text": [
      "Sphere: [-100, 100]^50\n",
      "Sphere: [-100, 100]^50\n",
      "Sphere: [-100, 100]^50\n",
      "Weierstrass: [-0.5, 0.5]^25\n",
      "Rosenbrock: [-50, 50]^50\n",
      "Ackley: [-50, 50]^50\n",
      "Weierstrass: [-0.5, 0.5]^50\n",
      "Schwefel: [-500, 500]^50\n",
      "Griewank: [-100, 100]^50\n",
      "Rastrigin: [-50, 50]^50\n"
     ]
    }
   ],
   "source": [
    "for t in tasks:\n",
    "    print(t.name)"
   ]
  },
  {
   "cell_type": "code",
   "execution_count": 5,
   "metadata": {},
   "outputs": [
    {
     "name": "stdout",
     "output_type": "stream",
     "text": [
      "0.0\n",
      "0.0\n",
      "0.0\n",
      "0.0\n",
      "0.0\n",
      "4.440892098500626e-16\n",
      "0.0\n",
      "0.0006363918728311546\n",
      "0.0\n",
      "0.0\n"
     ]
    }
   ],
   "source": [
    "print(tasks[0].func(tasks[0].encode(np.array([0] * 50))))\n",
    "print(tasks[1].func(tasks[1].encode(np.array([0] * 50))))\n",
    "print(tasks[2].func(tasks[2].encode(np.array([0] * 50))))\n",
    "print(tasks[3].func(tasks[3].encode(np.array([0] * 25))))\n",
    "print(tasks[4].func(tasks[4].encode(np.array([1] * 50))))\n",
    "print(tasks[5].func(tasks[5].encode(np.array([0] * 50))))\n",
    "print(tasks[6].func(tasks[6].encode(np.array([0] * 50))))\n",
    "print(tasks[7].func(tasks[7].encode(np.array([420.9687] * 50))))\n",
    "print(tasks[8].func(tasks[8].encode(np.append(np.array([0] * 25), np.array([0] * 25)))))\n",
    "print(tasks[9].func(tasks[9].encode(np.append(np.array([0] * 25), np.array([0] * 25)))))\n"
   ]
  },
  {
   "cell_type": "code",
   "execution_count": 6,
   "metadata": {},
   "outputs": [
    {
     "data": {
      "text/plain": [
       "array([0.9209687, 0.9209687])"
      ]
     },
     "execution_count": 6,
     "metadata": {},
     "output_type": "execute_result"
    }
   ],
   "source": [
    "tasks[7].encode(np.array([420.9687] * 50))[[0, -1]]"
   ]
  },
  {
   "cell_type": "code",
   "execution_count": 7,
   "metadata": {},
   "outputs": [
    {
     "data": {
      "text/plain": [
       "array([420.9687, 420.9687])"
      ]
     },
     "execution_count": 7,
     "metadata": {},
     "output_type": "execute_result"
    }
   ],
   "source": [
    "tasks[7].decode(tasks[7].encode(np.array([420.9687] * 50)))[[0, -1]]"
   ]
  },
  {
   "cell_type": "code",
   "execution_count": 8,
   "metadata": {},
   "outputs": [
    {
     "name": "stdout",
     "output_type": "stream",
     "text": [
      "[0.5 0.5]\n",
      "[0.9 0.9]\n",
      "[0.1 0.1]\n",
      "[0.1 0.1]\n",
      "[0.5 0.5]\n",
      "[0.9 0.9]\n",
      "[0.1 0.1]\n",
      "[0.9209687 0.9209687]\n",
      "[0.1 0.9]\n",
      "[0.9 0.1]\n"
     ]
    }
   ],
   "source": [
    "print(tasks[0].encode(np.array([0] * 50))[[0, -1]])\n",
    "print(tasks[1].encode(np.array([0] * 50))[[0, -1]])\n",
    "print(tasks[2].encode(np.array([0] * 50))[[0, -1]])\n",
    "print(tasks[3].encode(np.array([0] * 25))[[0, -1]])\n",
    "print(tasks[4].encode(np.array([1] * 50))[[0, -1]])\n",
    "print(tasks[5].encode(np.array([0] * 50))[[0, -1]])\n",
    "print(tasks[6].encode(np.array([0] * 50))[[0, -1]])\n",
    "print(tasks[7].encode(np.array([420.9687] * 50))[[0, -1]])\n",
    "print(tasks[8].encode(np.array([0] * 50))[[0, -1]])\n",
    "print(tasks[9].encode(np.array([0] * 50))[[0, -1]])"
   ]
  },
  {
   "cell_type": "markdown",
   "metadata": {},
   "source": [
    "#### GA"
   ]
  },
  {
   "cell_type": "code",
   "execution_count": 9,
   "metadata": {},
   "outputs": [],
   "source": [
    "import numpy as np\n",
    "from MFEA_lib.GA import population_init, skill_factor_best_task, factorial_cost, factorial_rank\n"
   ]
  },
  {
   "cell_type": "code",
   "execution_count": 10,
   "metadata": {},
   "outputs": [
    {
     "ename": "TypeError",
     "evalue": "population_init() missing 1 required positional argument: 'd'",
     "output_type": "error",
     "traceback": [
      "\u001b[0;31m---------------------------------------------------------------------------\u001b[0m",
      "\u001b[0;31mTypeError\u001b[0m                                 Traceback (most recent call last)",
      "\u001b[0;32m/tmp/ipykernel_727170/2439444975.py\u001b[0m in \u001b[0;36m<module>\u001b[0;34m\u001b[0m\n\u001b[0;32m----> 1\u001b[0;31m \u001b[0mpopulation_init\u001b[0m\u001b[0;34m(\u001b[0m\u001b[0;36m10\u001b[0m\u001b[0;34m,\u001b[0m \u001b[0;36m5\u001b[0m\u001b[0;34m,\u001b[0m \u001b[0;34m)\u001b[0m\u001b[0;34m\u001b[0m\u001b[0;34m\u001b[0m\u001b[0m\n\u001b[0m",
      "\u001b[0;31mTypeError\u001b[0m: population_init() missing 1 required positional argument: 'd'"
     ]
    }
   ],
   "source": [
    "population_init(10, 5, )"
   ]
  }
 ],
 "metadata": {
  "interpreter": {
   "hash": "f9f85f796d01129d0dd105a088854619f454435301f6ffec2fea96ecbd9be4ac"
  },
  "kernelspec": {
   "display_name": "Python 3.9.5 64-bit",
   "language": "python",
   "name": "python3"
  },
  "language_info": {
   "codemirror_mode": {
    "name": "ipython",
    "version": 3
   },
   "file_extension": ".py",
   "mimetype": "text/x-python",
   "name": "python",
   "nbconvert_exporter": "python",
   "pygments_lexer": "ipython3",
   "version": "3.9.5"
  },
  "orig_nbformat": 4
 },
 "nbformat": 4,
 "nbformat_minor": 2
}
